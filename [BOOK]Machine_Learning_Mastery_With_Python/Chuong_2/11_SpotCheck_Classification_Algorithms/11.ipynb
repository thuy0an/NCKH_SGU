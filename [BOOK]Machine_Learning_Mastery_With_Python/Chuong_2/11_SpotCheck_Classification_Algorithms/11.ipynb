{
 "cells": [
  {
   "cell_type": "markdown",
   "id": "b11b2d81",
   "metadata": {},
   "source": [
    "# Chương 11 - Kiểm tra các thuật toán phân loại\n",
    "\n",
    "Kiểm tra (Spot-checking) là một cách để khám phá những thuật toán nào hoạt động tốt trên bài toán học máy của bạn. Bạn không thể biết trước thuật toán nào phù hợp nhất với bài toán của mình. Bạn phải thử nghiệm một số phương pháp và tập trung vào những phương pháp chứng tỏ chúng hứa hẹn nhất."
   ]
  },
  {
   "cell_type": "markdown",
   "id": "e1a1d189",
   "metadata": {},
   "source": [
    "## 11.1 Kiểm tra thuật toán\n",
    "\n",
    "Không thể biết trước thuật toán nào sẽ hoạt động tốt nhất trên tập dữ liệu của mình. Bạn phải sử dụng phương pháp thử nghiệm để khám phá một danh sách ngắn các thuật toán hoạt động tốt trên bài toán của bạn, sau đó bạn có thể tập trung vào chúng và tinh chỉnh thêm."
   ]
  },
  {
   "cell_type": "markdown",
   "id": "5dfb2d69",
   "metadata": {},
   "source": [
    "## 11.2 Tổng quan về các thuật toán\n",
    "\n",
    "Chúng ta sẽ xem xét sáu thuật toán phân loại mà bạn có thể kiểm tra trên tập dữ liệu của mình:\n",
    "\n",
    "- **Hồi quy Logistic (Logistic Regression)**\n",
    "- **Phân tích phân biệt tuyến tính (Linear Discriminant Analysis)**\n",
    "- **k-Nearest Neighbors (k-láng giềng gần nhất)**\n",
    "- **Naive Bayes (Bayes ngây thơ)**\n",
    "- **Cây phân loại và hồi quy (Classification and Regression Trees - CART)**\n",
    "- **Máy vector hỗ trợ (Support Vector Machines - SVM)**"
   ]
  },
  {
   "cell_type": "markdown",
   "id": "a6459af2",
   "metadata": {},
   "source": [
    "## 11.3 Thuật toán học máy tuyến tính\n",
    "\n",
    "### 11.3.1 Hồi quy Logistic\n",
    "\n",
    "Hồi quy logistic giả định phân phối Gaussian cho các biến đầu vào số học và có thể mô hình hóa các bài toán phân loại nhị phân."
   ]
  },
  {
   "cell_type": "code",
   "execution_count": null,
   "id": "a1867320",
   "metadata": {},
   "outputs": [],
   "source": [
    "from sklearn.linear_model import LogisticRegression\n",
    "from sklearn.model_selection import KFold, cross_val_score\n",
    "import pandas as pd\n",
    "\n",
    "filename = 'pima-indians-diabetes.data.csv'\n",
    "names = ['preg', 'plas', 'pres', 'skin', 'test', 'mass', 'pedi', 'age', 'class']\n",
    "dataframe = pd.read_csv(filename, names=names)\n",
    "array = dataframe.values\n",
    "X = array[:, 0:8]\n",
    "Y = array[:, 8]\n",
    "\n",
    "kfold = KFold(n_splits=10, random_state=7, shuffle=True)\n",
    "model = LogisticRegression()\n",
    "results = cross_val_score(model, X, Y, cv=kfold)\n",
    "print(f\"Logistic Regression Accuracy: {results.mean():.4f}\")"
   ]
  },
  {
   "cell_type": "markdown",
   "id": "045458ba",
   "metadata": {},
   "source": [
    "### 11.3.2 Phân tích phân biệt tuyến tính\n",
    "\n",
    "Phân tích phân biệt tuyến tính (LDA) là một kỹ thuật thống kê cho phân loại nhị phân và đa lớp."
   ]
  },
  {
   "cell_type": "code",
   "execution_count": null,
   "id": "0c77c3eb",
   "metadata": {},
   "outputs": [],
   "source": [
    "from sklearn.discriminant_analysis import LinearDiscriminantAnalysis\n",
    "\n",
    "model = LinearDiscriminantAnalysis()\n",
    "results = cross_val_score(model, X, Y, cv=kfold)\n",
    "print(f\"LDA Accuracy: {results.mean():.4f}\")"
   ]
  },
  {
   "cell_type": "markdown",
   "id": "094cda1b",
   "metadata": {},
   "source": [
    "## 11.4 Thuật toán học máy phi tuyến tính\n",
    "\n",
    "### 11.4.1 k-Nearest Neighbors\n",
    "\n",
    "Thuật toán k-Nearest Neighbors (KNN) sử dụng một phép đo khoảng cách để tìm k phần tử tương tự nhất trong dữ liệu huấn luyện cho một phần tử mới."
   ]
  },
  {
   "cell_type": "code",
   "execution_count": null,
   "id": "3c35d785",
   "metadata": {},
   "outputs": [],
   "source": [
    "from sklearn.neighbors import KNeighborsClassifier\n",
    "\n",
    "model = KNeighborsClassifier()\n",
    "results = cross_val_score(model, X, Y, cv=kfold)\n",
    "print(f\"KNN Accuracy: {results.mean():.4f}\")"
   ]
  },
  {
   "cell_type": "markdown",
   "id": "936f6b5c",
   "metadata": {},
   "source": [
    "### 11.4.2 Naive Bayes\n",
    "\n",
    "Naive Bayes tính toán xác suất của mỗi lớp và xác suất có điều kiện của mỗi lớp với từng giá trị đầu vào."
   ]
  },
  {
   "cell_type": "code",
   "execution_count": null,
   "id": "bed06e8c",
   "metadata": {},
   "outputs": [],
   "source": [
    "from sklearn.naive_bayes import GaussianNB\n",
    "\n",
    "model = GaussianNB()\n",
    "results = cross_val_score(model, X, Y, cv=kfold)\n",
    "print(f\"Naive Bayes Accuracy: {results.mean():.4f}\")"
   ]
  },
  {
   "cell_type": "markdown",
   "id": "38c69f37",
   "metadata": {},
   "source": [
    "### 11.4.3 Cây phân loại và hồi quy\n",
    "\n",
    "Cây phân loại và hồi quy (CART) xây dựng một cây nhị phân từ dữ liệu huấn luyện."
   ]
  },
  {
   "cell_type": "code",
   "execution_count": null,
   "id": "6189ca32",
   "metadata": {},
   "outputs": [],
   "source": [
    "from sklearn.tree import DecisionTreeClassifier\n",
    "\n",
    "model = DecisionTreeClassifier()\n",
    "results = cross_val_score(model, X, Y, cv=kfold)\n",
    "print(f\"CART Accuracy: {results.mean():.4f}\")"
   ]
  },
  {
   "cell_type": "markdown",
   "id": "437042df",
   "metadata": {},
   "source": [
    "### 11.4.4 Máy vector hỗ trợ\n",
    "\n",
    "Máy vector hỗ trợ (SVM) tìm kiếm đường thẳng phân tách tốt nhất giữa hai lớp."
   ]
  },
  {
   "cell_type": "code",
   "execution_count": null,
   "id": "0d889090",
   "metadata": {},
   "outputs": [],
   "source": [
    "from sklearn.svm import SVC\n",
    "\n",
    "model = SVC()\n",
    "results = cross_val_score(model, X, Y, cv=kfold)\n",
    "print(f\"SVM Accuracy: {results.mean():.4f}\")"
   ]
  },
  {
   "cell_type": "markdown",
   "id": "d605b8f8",
   "metadata": {},
   "source": [
    "## 11.5 Tóm tắt\n",
    "\n",
    "Trong chương này đã tìm hiểu 6 thuật toán học máy mà bạn có thể sử dụng để kiểm tra trên bài toán phân loại của mình trong Python sử dụng scikit-learn. Các thuật toán bao gồm:\n",
    "\n",
    "- **Hồi quy Logistic**\n",
    "- **Phân tích phân biệt tuyến tính**\n",
    "- **k-Nearest Neighbors**\n",
    "- **Naive Bayes**\n",
    "- **Cây phân loại và hồi quy**\n",
    "- **Máy vector hỗ trợ**"
   ]
  }
 ],
 "metadata": {
  "language_info": {
   "name": "python"
  }
 },
 "nbformat": 4,
 "nbformat_minor": 5
}
