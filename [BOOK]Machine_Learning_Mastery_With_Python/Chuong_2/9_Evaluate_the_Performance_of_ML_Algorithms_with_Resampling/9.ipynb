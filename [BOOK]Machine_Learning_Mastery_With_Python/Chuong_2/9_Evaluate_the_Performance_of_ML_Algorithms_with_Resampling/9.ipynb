{
 "cells": [
  {
   "cell_type": "markdown",
   "id": "00b518fc",
   "metadata": {},
   "source": [
    "# Chương 9 - Đánh giá hiệu suất của thuật toán học máy bằng kỹ thuật lấy mẫu\n",
    "\n",
    "Trong chương này, bạn sẽ khám phá cách ước tính độ chính xác của các thuật toán học máy bằng phương pháp lấy mẫu lại (resampling) trong Python và scikit-learn. Mục tiêu là đánh giá hiệu suất của thuật toán trên dữ liệu chưa từng thấy bằng cách sử dụng các kỹ thuật thống kê gọi là **lấy mẫu lại**."
   ]
  },
  {
   "cell_type": "markdown",
   "id": "362ea9ef",
   "metadata": {},
   "source": [
    "## 9.2 Phân chia thành tập huấn luyện và tập kiểm tra\n",
    "\n",
    "Kỹ thuật này chia tập dữ liệu thành hai phần: một phần để huấn luyện và một phần để kiểm tra. Mô hình được huấn luyện trên tập huấn luyện và được kiểm tra trên tập kiểm tra. Tỷ lệ phân chia điển hình là **67% cho huấn luyện** và **33% cho kiểm tra**."
   ]
  },
  {
   "cell_type": "code",
   "execution_count": null,
   "id": "f9b46d6c",
   "metadata": {},
   "outputs": [],
   "source": [
    "from pandas import read_csv\n",
    "from sklearn.model_selection import train_test_split\n",
    "from sklearn.linear_model import LogisticRegression\n",
    "\n",
    "filename = 'pima-indians-diabetes.data.csv'\n",
    "names = ['preg', 'plas', 'pres', 'skin', 'test', 'mass', 'pedi', 'age', 'class']\n",
    "dataframe = read_csv(filename, names=names)\n",
    "array = dataframe.values\n",
    "X = array[:,0:8]\n",
    "Y = array[:,8]\n",
    "test_size = 0.33\n",
    "seed = 7\n",
    "X_train, X_test, Y_train, Y_test = train_test_split(X, Y, test_size=test_size, random_state=seed)\n",
    "model = LogisticRegression()\n",
    "model.fit(X_train, Y_train)\n",
    "result = model.score(X_test, Y_test)\n",
    "print(\"Accuracy: %.3f%%\" % (result*100.0))"
   ]
  },
  {
   "cell_type": "markdown",
   "id": "dea522e4",
   "metadata": {},
   "source": [
    "## 9.3 Kiểm tra chéo K-fold\n",
    "\n",
    "Trong kiểm tra chéo K-fold, tập dữ liệu được chia thành **k** phần (fold). Mô hình được huấn luyện trên **k-1** fold và được kiểm tra trên fold còn lại. Quá trình này được lặp lại cho mỗi fold, cho chúng ta **k** điểm hiệu suất."
   ]
  },
  {
   "cell_type": "code",
   "execution_count": null,
   "id": "7d0050f1",
   "metadata": {},
   "outputs": [],
   "source": [
    "from pandas import read_csv\n",
    "from sklearn.model_selection import KFold\n",
    "from sklearn.model_selection import cross_val_score\n",
    "from sklearn.linear_model import LogisticRegression\n",
    "\n",
    "filename = 'pima-indians-diabetes.data.csv'\n",
    "names = ['preg', 'plas', 'pres', 'skin', 'test', 'mass', 'pedi', 'age', 'class']\n",
    "dataframe = read_csv(filename, names=names)\n",
    "array = dataframe.values\n",
    "X = array[:,0:8]\n",
    "Y = array[:,8]\n",
    "num_folds = 10\n",
    "seed = 7\n",
    "kfold = KFold(n_splits=num_folds, random_state=seed, shuffle=True)\n",
    "model = LogisticRegression()\n",
    "results = cross_val_score(model, X, Y, cv=kfold)\n",
    "print(\"Accuracy: %.3f%% (%.3f%%)\" % (results.mean()*100.0, results.std()*100.0))"
   ]
  },
  {
   "cell_type": "markdown",
   "id": "69579d32",
   "metadata": {},
   "source": [
    "## 9.4 Kiểm tra chéo Leave One Out (LOO-CV)\n",
    "\n",
    "Kiểm tra chéo Leave One Out (LOO-CV) là một trường hợp đặc biệt của kiểm tra chéo K-fold trong đó **k** bằng với số lượng quan sát trong tập dữ liệu."
   ]
  },
  {
   "cell_type": "code",
   "execution_count": null,
   "id": "137bb0d5",
   "metadata": {},
   "outputs": [],
   "source": [
    "from pandas import read_csv\n",
    "from sklearn.model_selection import LeaveOneOut\n",
    "from sklearn.model_selection import cross_val_score\n",
    "from sklearn.linear_model import LogisticRegression\n",
    "\n",
    "filename = 'pima-indians-diabetes.data.csv'\n",
    "names = ['preg', 'plas', 'pres', 'skin', 'test', 'mass', 'pedi', 'age', 'class']\n",
    "dataframe = read_csv(filename, names=names)\n",
    "array = dataframe.values\n",
    "X = array[:,0:8]\n",
    "Y = array[:,8]\n",
    "loocv = LeaveOneOut()\n",
    "model = LogisticRegression()\n",
    "results = cross_val_score(model, X, Y, cv=loocv)\n",
    "print(\"Accuracy: %.3f%% (%.3f%%)\" % (results.mean()*100.0, results.std()*100.0))"
   ]
  },
  {
   "cell_type": "markdown",
   "id": "6554bd6c",
   "metadata": {},
   "source": [
    "## 9.5 Phân chia ngẫu nhiên lặp lại giữa tập huấn luyện và kiểm tra\n",
    "\n",
    "Kỹ thuật này liên quan đến việc lặp lại nhiều lần phân chia ngẫu nhiên tập dữ liệu thành tập huấn luyện và tập kiểm tra."
   ]
  },
  {
   "cell_type": "code",
   "execution_count": null,
   "id": "cd9115bf",
   "metadata": {},
   "outputs": [],
   "source": [
    "from pandas import read_csv\n",
    "from sklearn.model_selection import ShuffleSplit\n",
    "from sklearn.model_selection import cross_val_score\n",
    "from sklearn.linear_model import LogisticRegression\n",
    "\n",
    "filename = 'pima-indians-diabetes.data.csv'\n",
    "names = ['preg', 'plas', 'pres', 'skin', 'test', 'mass', 'pedi', 'age', 'class']\n",
    "dataframe = read_csv(filename, names=names)\n",
    "array = dataframe.values\n",
    "X = array[:,0:8]\n",
    "Y = array[:,8]\n",
    "n_splits = 10\n",
    "test_size = 0.33\n",
    "seed = 7\n",
    "kfold = ShuffleSplit(n_splits=n_splits, test_size=test_size, random_state=seed)\n",
    "model = LogisticRegression()\n",
    "results = cross_val_score(model, X, Y, cv=kfold)\n",
    "print(\"Accuracy: %.3f%% (%.3f%%)\" % (results.mean()*100.0, results.std()*100.0))"
   ]
  },
  {
   "cell_type": "markdown",
   "id": "2a87d6de",
   "metadata": {},
   "source": [
    "## 9.7 Tóm tắt\n",
    "\n",
    "Trong chương này, bạn đã học về các kỹ thuật lấy mẫu lại khác nhau để đánh giá hiệu suất của thuật toán học máy:\n",
    "\n",
    "- **Tập huấn luyện và tập kiểm tra**\n",
    "- **Kiểm tra chéo K-fold**\n",
    "- **Kiểm tra chéo Leave One Out**\n",
    "- **Phân chia ngẫu nhiên lặp lại giữa tập huấn luyện và kiểm tra**\n",
    "\n",
    "Mỗi phương pháp đều có ưu điểm và nhược điểm riêng. Kỹ thuật tốt nhất phụ thuộc vào các yếu tố như kích thước tập dữ liệu, chi phí tính toán và nhu cầu về ước tính hiệu suất chính xác."
   ]
  }
 ],
 "metadata": {
  "language_info": {
   "name": "python"
  }
 },
 "nbformat": 4,
 "nbformat_minor": 5
}
