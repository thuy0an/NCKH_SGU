{
 "cells": [
  {
   "cell_type": "markdown",
   "id": "3e8b6291",
   "metadata": {},
   "source": [
    "# Chương 13: So Sánh Các Thuật Toán Học Máy\n",
    "\n",
    "Việc so sánh hiệu suất của nhiều thuật toán học máy khác nhau một cách nhất quán là rất quan trọng. Trong chương này, bạn sẽ khám phá cách tạo một bộ kiểm thử để so sánh nhiều thuật toán học máy khác nhau trong Python với scikit-learn. Bạn có thể sử dụng bộ kiểm thử này như một mẫu cho các vấn đề học máy của riêng bạn và thêm các thuật toán khác nhau để so sánh."
   ]
  },
  {
   "cell_type": "markdown",
   "id": "5e933217",
   "metadata": {},
   "source": [
    "## 13.1 Chọn Mô Hình Học Máy Tốt Nhất\n",
    "\n",
    "Khi bạn làm việc trên một dự án học máy, bạn thường kết thúc với nhiều mô hình tốt để lựa chọn. Mỗi mô hình sẽ có đặc điểm hiệu suất khác nhau. Sử dụng các phương pháp lấy mẫu lại như kiểm chứng chéo (cross validation), bạn có thể có được ước tính về độ chính xác của từng mô hình trên dữ liệu chưa từng thấy. Bạn cần có khả năng sử dụng các ước tính này để chọn một hoặc hai mô hình tốt nhất từ bộ các mô hình mà bạn đã tạo.\n",
    "\n",
    "Khi bạn có một tập dữ liệu mới, việc hình dung dữ liệu bằng các kỹ thuật khác nhau để nhìn dữ liệu từ các góc độ khác nhau là một ý tưởng tốt. Ý tưởng tương tự cũng áp dụng cho việc lựa chọn mô hình. Bạn nên sử dụng một số cách khác nhau để xem xét độ chính xác ước tính của các thuật toán học máy để chọn một hoặc hai thuật toán để hoàn thiện. Một cách để làm điều này là sử dụng các phương pháp trực quan hóa để hiển thị độ chính xác trung bình, phương sai và các thuộc tính khác của phân phối độ chính xác của mô hình."
   ]
  },
  {
   "cell_type": "markdown",
   "id": "662488fe",
   "metadata": {},
   "source": [
    "## 13.2 So Sánh Các Thuật Toán Học Máy Một Cách Nhất Quán\n",
    "\n",
    "Để so sánh công bằng các thuật toán học máy là đảm bảo rằng mỗi thuật toán được đánh giá theo cùng một cách trên cùng một dữ liệu. Bạn có thể đạt được điều này bằng cách buộc mỗi thuật toán được đánh giá trên một bộ kiểm thử nhất quán."
   ]
  },
  {
   "cell_type": "code",
   "execution_count": null,
   "id": "a719ab37",
   "metadata": {},
   "outputs": [],
   "source": [
    "# So Sánh Các Thuật Toán\n",
    "from pandas import read_csv\n",
    "from matplotlib import pyplot\n",
    "from sklearn.model_selection import KFold\n",
    "from sklearn.model_selection import cross_val_score\n",
    "from sklearn.linear_model import LogisticRegression\n",
    "from sklearn.tree import DecisionTreeClassifier\n",
    "from sklearn.neighbors import KNeighborsClassifier\n",
    "from sklearn.discriminant_analysis import LinearDiscriminantAnalysis\n",
    "from sklearn.naive_bayes import GaussianNB\n",
    "from sklearn.svm import SVC\n",
    "\n",
    "# tải dữ liệu\n",
    "filename = 'pima-indians-diabetes.data.csv'\n",
    "names = ['preg', 'plas', 'pres', 'skin', 'test', 'mass', 'pedi', 'age', 'class']\n",
    "dataframe = read_csv(filename, names=names)\n",
    "array = dataframe.values\n",
    "X = array[:,0:8]\n",
    "Y = array[:,8]\n",
    "\n",
    "# chuẩn bị các mô hình\n",
    "models = []\n",
    "models.append(('LR', LogisticRegression()))\n",
    "models.append(('LDA', LinearDiscriminantAnalysis()))\n",
    "models.append(('KNN', KNeighborsClassifier()))\n",
    "models.append(('CART', DecisionTreeClassifier()))\n",
    "models.append(('NB', GaussianNB()))\n",
    "models.append(('SVM', SVC()))\n",
    "\n",
    "# đánh giá từng mô hình lần lượt\n",
    "results = []\n",
    "names = []\n",
    "scoring = 'accuracy'\n",
    "for name, model in models:\n",
    "    kfold = KFold(n_splits=10, random_state=7)\n",
    "    cv_results = cross_val_score(model, X, Y, cv=kfold, scoring=scoring)\n",
    "    results.append(cv_results)\n",
    "    names.append(name)\n",
    "    msg = \"%s: %f (%f)\" % (name, cv_results.mean(), cv_results.std())\n",
    "    print(msg)"
   ]
  },
  {
   "cell_type": "code",
   "execution_count": null,
   "id": "b7f7d8da",
   "metadata": {},
   "outputs": [],
   "source": [
    "# biểu đồ so sánh thuật toán\n",
    "fig = pyplot.figure()\n",
    "fig.suptitle('So Sánh Thuật Toán')\n",
    "ax = fig.add_subplot(111)\n",
    "pyplot.boxplot(results)\n",
    "ax.set_xticklabels(names)\n",
    "pyplot.show()"
   ]
  },
  {
   "cell_type": "markdown",
   "id": "bd112c79",
   "metadata": {},
   "source": [
    "Kết quả chạy mẫu cung cấp danh sách mỗi tên rút gọn của thuật toán, độ chính xác trung bình và độ lệch chuẩn độ chính xác:\n",
    "\n",
    "```\n",
    "LR: 0.769515 (0.048411)\n",
    "LDA: 0.773462 (0.051592)\n",
    "KNN: 0.726555 (0.061821)\n",
    "CART: 0.695232 (0.062517)\n",
    "NB: 0.755178 (0.042766)\n",
    "SVM: 0.651025 (0.072141)\n",
    "```\n",
    "\n",
    "Ví dụ cũng cung cấp biểu đồ hộp và râu (box and whisker plot) cho thấy sự phân tán của các điểm số độ chính xác trên mỗi fold của kiểm chứng chéo cho mỗi thuật toán."
   ]
  }
 ],
 "metadata": {
  "language_info": {
   "name": "python"
  }
 },
 "nbformat": 4,
 "nbformat_minor": 5
}
