{
 "cells": [
  {
   "cell_type": "markdown",
   "id": "9dd203a2",
   "metadata": {},
   "source": [
    "# Chương 10: Các Chỉ Số Đánh Giá Hiệu Suất Thuật Toán Máy Học\n",
    "\n",
    "Các chỉ số đo lường hiệu suất của thuật toán máy học rất quan trọng. Việc lựa chọn các chỉ số này ảnh hưởng đến cách bạn đánh giá và so sánh hiệu suất của các thuật toán, cũng như quyết định thuật toán nào sẽ được chọn. Trong chương này, bạn sẽ tìm hiểu cách chọn và sử dụng các chỉ số hiệu suất khác nhau trong Python với scikit-learn."
   ]
  },
  {
   "cell_type": "markdown",
   "id": "0d25d70f",
   "metadata": {},
   "source": [
    "## 10.3 Các Chỉ Số Đánh Giá Hồi Quy\n",
    "\n",
    "Trong phần này, chúng ta sẽ xem xét ba chỉ số phổ biến để đánh giá các dự đoán cho bài toán hồi quy:\n",
    "\n",
    "- **Lỗi tuyệt đối trung bình (Mean Absolute Error - MAE)**\n",
    "- **Lỗi bình phương trung bình (Mean Squared Error - MSE)**\n",
    "- **Chỉ số R² (R Squared)**"
   ]
  },
  {
   "cell_type": "markdown",
   "id": "2354c727",
   "metadata": {},
   "source": [
    "### 10.3.1 Lỗi Tuyệt Đối Trung Bình (Mean Absolute Error - MAE)\n",
    "\n",
    "MAE là tổng của các sai số tuyệt đối giữa các giá trị dự đoán và giá trị thực. Nó cho bạn biết độ lớn của sai số, nhưng không cho biết sai số đó có bị thừa hay thiếu."
   ]
  },
  {
   "cell_type": "code",
   "execution_count": null,
   "id": "06333971",
   "metadata": {},
   "outputs": [],
   "source": [
    "from pandas import read_csv\n",
    "from sklearn.model_selection import KFold\n",
    "from sklearn.model_selection import cross_val_score\n",
    "from sklearn.linear_model import LinearRegression\n",
    "\n",
    "filename = 'housing.csv'\n",
    "names = ['CRIM', 'ZN', 'INDUS', 'CHAS', 'NOX', 'RM', 'AGE', 'DIS', 'RAD', 'TAX', 'PTRATIO', 'B', 'LSTAT', 'MEDV']\n",
    "dataframe = read_csv(filename, delim_whitespace=True, names=names)\n",
    "array = dataframe.values\n",
    "X = array[:,0:13]\n",
    "Y = array[:,13]\n",
    "kfold = KFold(n_splits=10, random_state=7, shuffle=True)\n",
    "model = LinearRegression()\n",
    "scoring = 'neg_mean_absolute_error'\n",
    "results = cross_val_score(model, X, Y, cv=kfold, scoring=scoring)\n",
    "print(\"MAE: %.3f (%.3f)\" % (results.mean(), results.std()))"
   ]
  },
  {
   "cell_type": "markdown",
   "id": "9de8539d",
   "metadata": {},
   "source": [
    "### 10.3.2 Lỗi Bình Phương Trung Bình (Mean Squared Error - MSE)\n",
    "\n",
    "MSE cung cấp thông tin về độ lớn của sai số, nhưng vì bình phương các sai số, MSE có thể nhạy cảm hơn với các sai số lớn."
   ]
  },
  {
   "cell_type": "code",
   "execution_count": null,
   "id": "ad3014ed",
   "metadata": {},
   "outputs": [],
   "source": [
    "from pandas import read_csv\n",
    "from sklearn.model_selection import KFold\n",
    "from sklearn.model_selection import cross_val_score\n",
    "from sklearn.linear_model import LinearRegression\n",
    "\n",
    "filename = 'housing.csv'\n",
    "names = ['CRIM', 'ZN', 'INDUS', 'CHAS', 'NOX', 'RM', 'AGE', 'DIS', 'RAD', 'TAX', 'PTRATIO', 'B', 'LSTAT', 'MEDV']\n",
    "dataframe = read_csv(filename, delim_whitespace=True, names=names)\n",
    "array = dataframe.values\n",
    "X = array[:,0:13]\n",
    "Y = array[:,13]\n",
    "kfold = KFold(n_splits=10, random_state=7, shuffle=True)\n",
    "model = LinearRegression()\n",
    "scoring = 'neg_mean_squared_error'\n",
    "results = cross_val_score(model, X, Y, cv=kfold, scoring=scoring)\n",
    "print(\"MSE: %.3f (%.3f)\" % (results.mean(), results.std()))"
   ]
  },
  {
   "cell_type": "markdown",
   "id": "31d70344",
   "metadata": {},
   "source": [
    "### 10.3.3 Chỉ Số R² (R Squared)\n",
    "\n",
    "R² đo lường mức độ phù hợp của mô hình với dữ liệu thực tế. Giá trị R² càng gần 1.0, mô hình càng phù hợp với dữ liệu."
   ]
  },
  {
   "cell_type": "code",
   "execution_count": null,
   "id": "fd790a51",
   "metadata": {},
   "outputs": [],
   "source": [
    "from pandas import read_csv\n",
    "from sklearn.model_selection import KFold\n",
    "from sklearn.model_selection import cross_val_score\n",
    "from sklearn.linear_model import LinearRegression\n",
    "\n",
    "filename = 'housing.csv'\n",
    "names = ['CRIM', 'ZN', 'INDUS', 'CHAS', 'NOX', 'RM', 'AGE', 'DIS', 'RAD', 'TAX', 'PTRATIO', 'B', 'LSTAT', 'MEDV']\n",
    "dataframe = read_csv(filename, delim_whitespace=True, names=names)\n",
    "array = dataframe.values\n",
    "X = array[:,0:13]\n",
    "Y = array[:,13]\n",
    "kfold = KFold(n_splits=10, random_state=7, shuffle=True)\n",
    "model = LinearRegression()\n",
    "scoring = 'r2'\n",
    "results = cross_val_score(model, X, Y, cv=kfold, scoring=scoring)\n",
    "print(\"R^2: %.3f (%.3f)\" % (results.mean(), results.std()))"
   ]
  },
  {
   "cell_type": "markdown",
   "id": "88027d0f",
   "metadata": {},
   "source": [
    "## 10.4 Tổng Kết\n",
    "\n",
    "Trong chương này, bạn đã học về các chỉ số mà bạn có thể sử dụng để đánh giá các thuật toán máy học. Các chỉ số bao gồm:\n",
    "\n",
    "- **Lỗi tuyệt đối trung bình (MAE)**\n",
    "- **Lỗi bình phương trung bình (MSE)**\n",
    "- **Chỉ số R² (R Squared)**\n",
    "\n",
    "Mỗi chỉ số cung cấp một góc nhìn khác nhau về hiệu suất của mô hình, giúp bạn chọn được mô hình phù hợp nhất với bài toán của mình."
   ]
  }
 ],
 "metadata": {
  "language_info": {
   "name": "python"
  }
 },
 "nbformat": 4,
 "nbformat_minor": 5
}
