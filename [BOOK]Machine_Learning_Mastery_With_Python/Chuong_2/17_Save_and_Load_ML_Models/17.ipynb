{
 "cells": [
  {
   "cell_type": "markdown",
   "id": "3e8b6291",
   "metadata": {},
   "source": [
    "# Chương 17: Lưu và Tải Mô Hình Học Máy\n",
    "\n",
    "Tìm được một mô hình học máy chính xác không phải là kết thúc của dự án. Trong chương này, bạn sẽ khám phá cách lưu và tải mô hình học máy của bạn trong Python sử dụng scikit-learn. Điều này cho phép bạn lưu mô hình của mình vào tệp và tải lại sau để thực hiện dự đoán. Sau khi hoàn thành bài học này, bạn sẽ biết:\n",
    "1. Tầm quan trọng của việc tuần tự hóa (serializing) mô hình để tái sử dụng.\n",
    "2. Cách sử dụng pickle để tuần tự hóa và giải tuần tự hóa mô hình học máy.\n",
    "3. Cách sử dụng Joblib để tuần tự hóa và giải tuần tự hóa mô hình học máy."
   ]
  },
  {
   "cell_type": "markdown",
   "id": "5e933217",
   "metadata": {},
   "source": [
    "## 17.1 Hoàn Thiện Mô Hình Với pickle\n",
    "\n",
    "**Pickle** là cách tiêu chuẩn để tuần tự hóa các đối tượng trong Python. Bạn có thể sử dụng thao tác pickle để tuần tự hóa các thuật toán học máy của mình và lưu định dạng tuần tự hóa vào một tệp. Sau đó, bạn có thể tải tệp này để giải tuần tự hóa mô hình của mình và sử dụng nó để đưa ra các dự đoán mới.\n",
    "\n",
    "Ví dụ dưới đây cho thấy cách bạn có thể huấn luyện một mô hình hồi quy logistic trên tập dữ liệu Pima Indians về bệnh tiểu đường, lưu mô hình vào tệp và tải nó để đưa ra dự đoán trên tập kiểm tra chưa từng thấy."
   ]
  },
  {
   "cell_type": "code",
   "execution_count": null,
   "id": "a719ab37",
   "metadata": {},
   "outputs": [],
   "source": [
    "# Lưu Mô Hình Sử Dụng Pickle\n",
    "from pandas import read_csv\n",
    "from sklearn.model_selection import train_test_split\n",
    "from sklearn.linear_model import LogisticRegression\n",
    "from pickle import dump\n",
    "from pickle import load\n",
    "\n",
    "filename = 'pima-indians-diabetes.data.csv'\n",
    "names = ['preg', 'plas', 'pres', 'skin', 'test', 'mass', 'pedi', 'age', 'class']\n",
    "dataframe = read_csv(filename, names=names)\n",
    "array = dataframe.values\n",
    "X = array[:,0:8]\n",
    "Y = array[:,8]\n",
    "X_train, X_test, Y_train, Y_test = train_test_split(X, Y, test_size=0.33, random_state=7)\n",
    "\n",
    "# Fit the model on 33%\n",
    "model = LogisticRegression()\n",
    "model.fit(X_train, Y_train)\n",
    "\n",
    "# save the model to disk\n",
    "filename = 'finalized_model.sav'\n",
    "dump(model, open(filename, 'wb'))\n",
    "\n",
    "# some time later...\n",
    "# load the model from disk\n",
    "loaded_model = load(open(filename, 'rb'))\n",
    "result = loaded_model.score(X_test, Y_test)\n",
    "print(result)"
   ]
  },
  {
   "cell_type": "markdown",
   "id": "a7f7d8da",
   "metadata": {},
   "source": [
    "## 17.2 Hoàn Thiện Mô Hình Với Joblib\n",
    "\n",
    "Thư viện **Joblib** là một phần của hệ sinh thái SciPy và cung cấp các tiện ích để quản lý các công việc Python. Nó cung cấp các tiện ích để lưu và tải các đối tượng Python sử dụng cấu trúc dữ liệu NumPy một cách hiệu quả. Điều này có thể hữu ích cho một số thuật toán học máy yêu cầu nhiều tham số hoặc lưu trữ toàn bộ tập dữ liệu (ví dụ: k-Nearest Neighbors).\n",
    "\n",
    "Ví dụ dưới đây cho thấy cách bạn có thể huấn luyện một mô hình hồi quy logistic trên tập dữ liệu Pima Indians về bệnh tiểu đường, lưu mô hình vào tệp sử dụng Joblib và tải nó để đưa ra dự đoán trên tập kiểm tra chưa từng thấy."
   ]
  },
  {
   "cell_type": "code",
   "execution_count": null,
   "id": "bd112c79",
   "metadata": {},
   "outputs": [],
   "source": [
    "# Lưu Mô Hình Sử dụng joblib\n",
    "from pandas import read_csv\n",
    "from sklearn.model_selection import train_test_split\n",
    "from sklearn.linear_model import LogisticRegression\n",
    "from sklearn.externals.joblib import dump\n",
    "from sklearn.externals.joblib import load\n",
    "\n",
    "filename = 'pima-indians-diabetes.data.csv'\n",
    "names = ['preg', 'plas', 'pres', 'skin', 'test', 'mass', 'pedi', 'age', 'class']\n",
    "dataframe = read_csv(filename, names=names)\n",
    "array = dataframe.values\n",
    "X = array[:,0:8]\n",
    "Y = array[:,8]\n",
    "X_train, X_test, Y_train, Y_test = train_test_split(X, Y, test_size=0.33, random_state=7)\n",
    "\n",
    "# Fit the model on 33%\n",
    "model = LogisticRegression()\n",
    "model.fit(X_train, Y_train)\n",
    "\n",
    "# save the model to disk\n",
    "filename = 'finalized_model.sav'\n",
    "dump(model, filename)\n",
    "\n",
    "# some time later...\n",
    "# load the model from disk\n",
    "loaded_model = load(filename)\n",
    "result = loaded_model.score(X_test, Y_test)\n",
    "print(result)"
   ]
  },
  {
   "cell_type": "markdown",
   "id": "d31a3bf9",
   "metadata": {},
   "source": [
    "## 17.3 Mẹo Để Hoàn Thiện Mô Hình Của Bạn\n",
    "\n",
    "Phần này liệt kê một số lưu ý quan trọng khi hoàn thiện các mô hình học máy của bạn.\n",
    "\n",
    "- **Phiên Bản Python**: Ghi nhớ phiên bản Python. Bạn gần như chắc chắn cần cùng phiên bản chính (và có thể cả phiên bản phụ) của Python được sử dụng để tuần tự hóa mô hình khi bạn tải lại sau đó và giải tuần tự hóa nó.\n",
    "\n",
    "- **Phiên Bản Thư Viện**: Phiên bản của tất cả các thư viện chính được sử dụng trong dự án học máy của bạn gần như chắc chắn cần phải giống nhau khi giải tuần tự hóa một mô hình đã lưu. Điều này không chỉ giới hạn ở phiên bản của NumPy và phiên bản của scikit-learn.\n",
    "\n",
    "- **Tuần Tự Hóa Thủ Công**: Bạn có thể thích xuất thủ công các tham số của mô hình đã học để có thể sử dụng chúng trực tiếp trong scikit-learn hoặc nền tảng khác trong tương lai. Thường thì các kỹ thuật được sử dụng nội bộ bởi các thuật toán học máy để đưa ra dự đoán đơn giản hơn nhiều so với những kỹ thuật được sử dụng để học các tham số và có thể dễ dàng để triển khai trong mã tùy chỉnh mà bạn kiểm soát.\n",
    "\n",
    "Hãy ghi nhớ phiên bản để bạn có thể tái tạo lại môi trường nếu vì lý do nào đó bạn không thể tải lại mô hình của mình trên một máy khác hoặc nền tảng khác tại một thời điểm sau."
   ]
  },
  {
   "cell_type": "markdown",
   "id": "15fbb642",
   "metadata": {},
   "source": [
    "## 17.4 Ví dụ mở rộng: Lưu và tải mô hình trên bộ dữ liệu thực tế\n",
    "\n",
    "Dưới đây là một ví dụ mở rộng về cách lưu và tải một mô hình Random Forest, một trong những thuật toán phổ biến trong học máy, với bộ dữ liệu Boston Housing."
   ]
  },
  {
   "cell_type": "code",
   "execution_count": null,
   "id": "9200a253",
   "metadata": {},
   "outputs": [],
   "source": [
    "# Lưu và tải mô hình Random Forest\n",
    "import pandas as pd\n",
    "import numpy as np\n",
    "from sklearn.datasets import load_boston\n",
    "from sklearn.ensemble import RandomForestRegressor\n",
    "from sklearn.model_selection import train_test_split\n",
    "from sklearn.metrics import mean_squared_error\n",
    "import pickle\n",
    "\n",
    "# Tải bộ dữ liệu Boston Housing\n",
    "boston = load_boston()\n",
    "X = boston.data\n",
    "y = boston.target\n",
    "\n",
    "# Chia dữ liệu thành tập huấn luyện và kiểm tra\n",
    "X_train, X_test, y_train, y_test = train_test_split(X, y, test_size=0.2, random_state=42)\n",
    "\n",
    "# Tạo và huấn luyện mô hình Random Forest\n",
    "rf_model = RandomForestRegressor(n_estimators=100, random_state=42)\n",
    "rf_model.fit(X_train, y_train)\n",
    "\n",
    "# Đánh giá mô hình trước khi lưu\n",
    "y_pred = rf_model.predict(X_test)\n",
    "mse = mean_squared_error(y_test, y_pred)\n",
    "print(f\"Mean Squared Error (trước khi lưu): {mse}\")\n",
    "\n",
    "# Lưu mô hình vào đĩa\n",
    "model_filename = 'boston_rf_model.pkl'\n",
    "with open(model_filename, 'wb') as file:\n",
    "    pickle.dump(rf_model, file)\n",
    "    \n",
    "print(f\"Mô hình đã được lưu vào {model_filename}\")\n",
    "\n",
    "# Tải mô hình từ đĩa\n",
    "with open(model_filename, 'rb') as file:\n",
    "    loaded_rf_model = pickle.load(file)\n",
    "    \n",
    "# Kiểm tra mô hình đã tải\n",
    "loaded_y_pred = loaded_rf_model.predict(X_test)\n",
    "loaded_mse = mean_squared_error(y_test, loaded_y_pred)\n",
    "print(f\"Mean Squared Error (sau khi tải): {loaded_mse}\")\n",
    "\n",
    "# So sánh kết quả để xác nhận mô hình đã được tải chính xác\n",
    "print(f\"Dự đoán giống nhau? {np.array_equal(y_pred, loaded_y_pred)}\")"
   ]
  }
 ],
 "metadata": {
  "language_info": {
   "name": "python"
  }
 },
 "nbformat": 4,
 "nbformat_minor": 5
}
