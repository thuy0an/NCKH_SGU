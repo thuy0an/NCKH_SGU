{
 "cells": [
  {
   "cell_type": "markdown",
   "id": "735abe27",
   "metadata": {},
   "source": [
    "# 📘 Chương 4: Cách Tải Dữ Liệu Machine Learning\n",
    "Trong chương này, bạn sẽ học cách tải dữ liệu CSV, một trong những định dạng dữ liệu phổ biến nhất cho Machine Learning.\n",
    "Dữ liệu CSV có thể được tải bằng nhiều cách khác nhau trong Python, bao gồm:\n",
    "1. Tải CSV với Thư viện chuẩn của Python\n",
    "2. Tải CSV với NumPy\n",
    "3. Tải CSV với Pandas"
   ]
  },
  {
   "cell_type": "markdown",
   "id": "f237dedf",
   "metadata": {},
   "source": [
    "## 4.1 Cân Nhắc Khi Tải Dữ Liệu CSV\n",
    "### 4.1.1 Tiêu Đề Tệp\n",
    "- Tệp CSV có thể có tiêu đề, giúp tự động gán tên cho các cột.\n",
    "- Nếu không có tiêu đề, bạn cần tự gán tên cho các thuộc tính.\n",
    "\n",
    "### 4.1.2 Bình Luận (Comments)\n",
    "- Các bình luận trong tệp CSV được đánh dấu bằng dấu # ở đầu dòng.\n",
    "\n",
    "### 4.1.3 Dấu Phân Cách (Delimiter)\n",
    "- Dữ liệu CSV thường sử dụng dấu phẩy (',') để phân tách các trường.\n",
    "\n",
    "### 4.1.4 Dấu Nháy (Quotes)\n",
    "- Các giá trị trong CSV có thể chứa khoảng trắng và thường được bao quanh bằng dấu nháy (quotation marks)."
   ]
  },
  {
   "cell_type": "markdown",
   "id": "79b8df04",
   "metadata": {},
   "source": [
    "## 4.2 Dữ Liệu Pima Indians\n",
    "- Bộ dữ liệu Pima Indians chứa thông tin về bệnh tiểu đường của người Pima và có thể sử dụng để phân loại (classification)."
   ]
  },
  {
   "cell_type": "markdown",
   "id": "9895cdc2",
   "metadata": {},
   "source": [
    "## 4.3 Tải CSV với Thư Viện Chuẩn của Python"
   ]
  },
  {
   "cell_type": "code",
   "execution_count": null,
   "id": "8dd9b248",
   "metadata": {},
   "outputs": [],
   "source": [
    "import csv\n",
    "import numpy\n",
    "\n",
    "filename = 'pima-indians-diabetes.data.csv'\n",
    "raw_data = open(filename, 'rb')\n",
    "reader = csv.reader(raw_data, delimiter=',', quoting=csv.QUOTE_NONE)\n",
    "x = list(reader)\n",
    "data = numpy.array(x).astype('float')\n",
    "print(data.shape)"
   ]
  },
  {
   "cell_type": "markdown",
   "id": "3b6ca4e8",
   "metadata": {},
   "source": [
    "## 4.4 Tải CSV với NumPy"
   ]
  },
  {
   "cell_type": "code",
   "execution_count": null,
   "id": "d3d47b37",
   "metadata": {},
   "outputs": [],
   "source": [
    "from numpy import loadtxt\n",
    "\n",
    "filename = 'pima-indians-diabetes.data.csv'\n",
    "raw_data = open(filename, 'rb')\n",
    "data = loadtxt(raw_data, delimiter=',')\n",
    "print(data.shape)"
   ]
  },
  {
   "cell_type": "code",
   "execution_count": null,
   "id": "e5fe75b8",
   "metadata": {},
   "outputs": [],
   "source": [
    "from numpy import loadtxt\n",
    "from urllib import urlopen\n",
    "\n",
    "url = 'https://goo.gl/vhm1eU'\n",
    "raw_data = urlopen(url)\n",
    "dataset = loadtxt(raw_data, delimiter=',')\n",
    "print(dataset.shape)"
   ]
  },
  {
   "cell_type": "markdown",
   "id": "323f921d",
   "metadata": {},
   "source": [
    "## 4.5 Tải CSV với Pandas"
   ]
  },
  {
   "cell_type": "code",
   "execution_count": null,
   "id": "07f4eba2",
   "metadata": {},
   "outputs": [],
   "source": [
    "from pandas import read_csv\n",
    "\n",
    "filename = 'pima-indians-diabetes.data.csv'\n",
    "names = ['preg', 'plas', 'pres', 'skin', 'test', 'mass', 'pedi', 'age', 'class']\n",
    "data = read_csv(filename, names=names)\n",
    "print(data.shape)"
   ]
  },
  {
   "cell_type": "code",
   "execution_count": null,
   "id": "873cc1d0",
   "metadata": {},
   "outputs": [],
   "source": [
    "from pandas import read_csv\n",
    "\n",
    "url = 'https://goo.gl/vhm1eU'\n",
    "names = ['preg', 'plas', 'pres', 'skin', 'test', 'mass', 'pedi', 'age', 'class']\n",
    "data = read_csv(url, names=names)\n",
    "print(data.shape)"
   ]
  },
  {
   "cell_type": "markdown",
   "id": "f56028bb",
   "metadata": {},
   "source": [
    "## 4.6 Tổng Kết\n",
    "- Bạn đã học được ba phương pháp chính để tải dữ liệu CSV vào Python: sử dụng Thư viện Chuẩn, NumPy và Pandas.\n",
    "- Trong thực tế nên sử dụng Pandas vì nó cung cấp nhiều tính năng linh hoạt và mạnh mẽ hơn để xử lý dữ liệu."
   ]
  }
 ],
 "metadata": {
  "kernelspec": {
   "display_name": "ProjectNCKH",
   "language": "python",
   "name": "python3"
  },
  "language_info": {
   "codemirror_mode": {
    "name": "ipython",
    "version": 3
   },
   "file_extension": ".py",
   "mimetype": "text/x-python",
   "name": "python",
   "nbconvert_exporter": "python",
   "pygments_lexer": "ipython3",
   "version": "3.9.21"
  }
 },
 "nbformat": 4,
 "nbformat_minor": 5
}
