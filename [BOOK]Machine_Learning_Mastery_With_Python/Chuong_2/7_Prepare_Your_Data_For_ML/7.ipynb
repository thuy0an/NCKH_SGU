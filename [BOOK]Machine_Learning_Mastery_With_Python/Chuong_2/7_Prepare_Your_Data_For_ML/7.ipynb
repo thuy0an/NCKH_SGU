{
 "cells": [
  {
   "cell_type": "markdown",
   "id": "0fcbef52",
   "metadata": {},
   "source": [
    "# Chương 7: Chuẩn Bị Dữ Liệu Cho Học Máy\n",
    "\n",
    "Các thuật toán học máy thường giả định một số tính chất nhất định về dữ liệu của bạn. Việc chuẩn bị (tiền xử lý) dữ liệu là một bước quan trọng để cải thiện hiệu suất mô hình. Trong chương này, chúng ta khám phá các kỹ thuật tiền xử lý phổ biến sử dụng scikit-learn."
   ]
  },
  {
   "cell_type": "markdown",
   "id": "d7440001",
   "metadata": {},
   "source": [
    "## 7.1 Tại Sao Cần Tiền Xử Lý Dữ Liệu\n",
    "\n",
    "- Hầu hết các thuật toán học máy **kỳ vọng dữ liệu ở một dạng cụ thể**.\n",
    "- Các thuật toán khác nhau **giả định các phân phối và quy mô khác nhau**.\n",
    "- Mặc dù tiền xử lý thường giúp ích, đôi khi **dữ liệu thô** có thể hoạt động tốt hơn.\n",
    "- Cách tiếp cận tốt nhất: **thử các phép biến đổi khác nhau** và **đánh giá nhiều thuật toán** trên mỗi phiên bản dữ liệu của bạn."
   ]
  },
  {
   "cell_type": "markdown",
   "id": "1933bdf0",
   "metadata": {},
   "source": [
    "## 7.3 Thay Đổi Tỷ Lệ Dữ Liệu\n",
    "\n",
    "**Thay đổi tỷ lệ các đặc trưng vào một khoảng cụ thể**, thường là `[0, 1]`.\n",
    "\n",
    "### Khi nào sử dụng:\n",
    "- Các thuật toán sử dụng **tính toán khoảng cách** (ví dụ: k-NN)\n",
    "- Các thuật toán dựa vào **gradient descent** (ví dụ: mạng nơ-ron)\n",
    "- Các mô hình dựa trên hồi quy **có trọng số cho đặc trưng**"
   ]
  },
  {
   "cell_type": "code",
   "execution_count": null,
   "id": "79d9a2ac",
   "metadata": {},
   "outputs": [],
   "source": [
    "# Rescale data (between 0 and 1)\n",
    "from pandas import read_csv\n",
    "from numpy import set_printoptions\n",
    "from sklearn.preprocessing import MinMaxScaler\n",
    "\n",
    "filename = 'pima-indians-diabetes.data.csv'\n",
    "names = ['preg', 'plas', 'pres', 'skin', 'test', 'mass', 'pedi', 'age', 'class']\n",
    "dataframe = read_csv(filename, names=names)\n",
    "array = dataframe.values\n",
    "# separate array into input and output components\n",
    "X = array[:,0:8]\n",
    "Y = array[:,8]\n",
    "scaler = MinMaxScaler(feature_range=(0, 1))\n",
    "rescaledX = scaler.fit_transform(X)\n",
    "# summarize transformed data\n",
    "set_printoptions(precision=3)\n",
    "print(rescaledX[0:5,:])"
   ]
  },
  {
   "cell_type": "markdown",
   "id": "e65744de",
   "metadata": {},
   "source": [
    "## 7.4 Chuẩn Hóa Dữ Liệu\n",
    "\n",
    "**Biến đổi đặc trưng thành phân phối Gaussian tiêu chuẩn**: giá trị trung bình = 0, độ lệch chuẩn = 1.\n",
    "\n",
    "### Khi nào sử dụng:\n",
    "- Các thuật toán giả định **phân phối chuẩn** của đầu vào\n",
    "- Hoạt động tốt với:\n",
    "  - Hồi Quy Tuyến Tính\n",
    "  - Hồi Quy Logistic\n",
    "  - Phân Tích Phân Biệt Tuyến Tính (LDA)"
   ]
  },
  {
   "cell_type": "code",
   "execution_count": null,
   "id": "5b07c5f1",
   "metadata": {},
   "outputs": [],
   "source": [
    "# Standardize data (0 mean, 1 stdev)\n",
    "from sklearn.preprocessing import StandardScaler\n",
    "from pandas import read_csv\n",
    "from numpy import set_printoptions\n",
    "\n",
    "filename = 'pima-indians-diabetes.data.csv'\n",
    "names = ['preg', 'plas', 'pres', 'skin', 'test', 'mass', 'pedi', 'age', 'class']\n",
    "dataframe = read_csv(filename, names=names)\n",
    "array = dataframe.values\n",
    "# separate array into input and output components\n",
    "X = array[:,0:8]\n",
    "Y = array[:,8]\n",
    "scaler = StandardScaler().fit(X)\n",
    "rescaledX = scaler.transform(X)\n",
    "# summarize transformed data\n",
    "set_printoptions(precision=3)\n",
    "print(rescaledX[0:5,:])"
   ]
  },
  {
   "cell_type": "markdown",
   "id": "9c844955",
   "metadata": {},
   "source": [
    "## 7.5 Chuẩn Hóa Dữ Liệu (Theo Hàng)\n",
    "\n",
    "**Chuẩn hóa mỗi quan sát (hàng)** theo độ dài đơn vị (chuẩn L2 = 1).\n",
    "\n",
    "### Khi nào sử dụng:\n",
    "- Dữ liệu **thưa thớt** (chứa nhiều số 0)\n",
    "- Các mô hình sử dụng:\n",
    "  - Các độ đo khoảng cách (ví dụ: k-NN)\n",
    "  - Đầu vào có trọng số (ví dụ: mạng nơ-ron)"
   ]
  },
  {
   "cell_type": "code",
   "execution_count": null,
   "id": "6178d1bb",
   "metadata": {},
   "outputs": [],
   "source": [
    "# Normalize data (length of 1)\n",
    "from sklearn.preprocessing import Normalizer\n",
    "from pandas import read_csv\n",
    "from numpy import set_printoptions\n",
    "\n",
    "filename = 'pima-indians-diabetes.data.csv'\n",
    "names = ['preg', 'plas', 'pres', 'skin', 'test', 'mass', 'pedi', 'age', 'class']\n",
    "dataframe = read_csv(filename, names=names)\n",
    "array = dataframe.values\n",
    "# separate array into input and output components\n",
    "X = array[:,0:8]\n",
    "Y = array[:,8]\n",
    "scaler = Normalizer().fit(X)\n",
    "normalizedX = scaler.transform(X)\n",
    "# summarize transformed data\n",
    "set_printoptions(precision=3)\n",
    "print(normalizedX[0:5,:])"
   ]
  },
  {
   "cell_type": "markdown",
   "id": "18090062",
   "metadata": {},
   "source": [
    "## 7.6 Nhị Phân Hóa Dữ Liệu (Ngưỡng)\n",
    "\n",
    "**Chuyển đổi dữ liệu thành giá trị nhị phân** sử dụng ngưỡng (ví dụ: > 0 trở thành 1).\n",
    "\n",
    "### Khi nào sử dụng:\n",
    "- Bạn muốn **rời rạc hóa các đặc trưng số**\n",
    "- Hữu ích trong **kỹ thuật đặc trưng**\n",
    "- Hữu ích khi chuyển đổi **xác suất thành lớp nhị phân**"
   ]
  },
  {
   "cell_type": "code",
   "execution_count": null,
   "id": "3145a5a8",
   "metadata": {},
   "outputs": [],
   "source": [
    "# Binarize data\n",
    "from sklearn.preprocessing import Binarizer\n",
    "from pandas import read_csv\n",
    "from numpy import set_printoptions\n",
    "\n",
    "filename = 'pima-indians-diabetes.data.csv'\n",
    "names = ['preg', 'plas', 'pres', 'skin', 'test', 'mass', 'pedi', 'age', 'class']\n",
    "dataframe = read_csv(filename, names=names)\n",
    "array = dataframe.values\n",
    "# separate array into input and output components\n",
    "X = array[:,0:8]\n",
    "Y = array[:,8]\n",
    "binarizer = Binarizer(threshold=0.0).fit(X)\n",
    "binaryX = binarizer.transform(X)\n",
    "# summarize transformed data\n",
    "set_printoptions(precision=3)\n",
    "print(binaryX[0:5,:])"
   ]
  },
  {
   "cell_type": "markdown",
   "id": "1ce81f2b",
   "metadata": {},
   "source": [
    "## 7.7 Tóm Tắt\n",
    "\n",
    "Trong chương này, bạn đã học cách chuẩn bị dữ liệu cho học máy bằng **scikit-learn**. Các kỹ thuật tiền xử lý chính bao gồm:\n",
    "\n",
    "- **Thay đổi tỷ lệ** đến một khoảng cố định\n",
    "- **Chuẩn hóa** thành phân phối Gaussian\n",
    "- **Chuẩn hóa** theo chuẩn đơn vị\n",
    "- **Nhị phân hóa** với ngưỡng"
   ]
  }
 ],
 "metadata": {
  "language_info": {
   "name": "python"
  }
 },
 "nbformat": 4,
 "nbformat_minor": 5
}
