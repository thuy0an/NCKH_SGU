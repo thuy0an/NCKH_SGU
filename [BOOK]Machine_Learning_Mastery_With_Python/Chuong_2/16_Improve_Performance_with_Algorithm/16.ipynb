{
 "cells": [
  {
   "cell_type": "markdown",
   "id": "3e8b6291",
   "metadata": {},
   "source": [
    "# Chương 16: Cải Thiện Hiệu Suất Với Điều Chỉnh Thuật Toán\n",
    "\n",
    "Các mô hình học máy được tham số hóa để có thể điều chỉnh hành vi của chúng cho một vấn đề cụ thể. Mô hình có thể có nhiều tham số và việc tìm kiếm tổ hợp tham số tốt nhất có thể được xem như một bài toán tìm kiếm. Trong chương này, bạn sẽ khám phá cách điều chỉnh tham số của thuật toán học máy trong Python sử dụng scikit-learn."
   ]
  },
  {
   "cell_type": "markdown",
   "id": "5e933217",
   "metadata": {},
   "source": [
    "## 16.1 Tham Số Thuật Toán Học Máy\n",
    "\n",
    "**Điều chỉnh thuật toán** là bước cuối cùng trong quá trình học máy ứng dụng trước khi hoàn thiện mô hình của bạn. Nó đôi khi được gọi là **tối ưu hóa siêu tham số** (hyperparameter optimization), trong đó tham số thuật toán được gọi là siêu tham số (hyperparameters), trong khi các hệ số được tìm thấy bởi chính thuật toán học máy được gọi là tham số (parameters).\n",
    "\n",
    "Tối ưu hóa gợi ý tính chất tìm kiếm của vấn đề. Được diễn đạt như một bài toán tìm kiếm, bạn có thể sử dụng các chiến lược tìm kiếm khác nhau để tìm tham số hoặc tập tham số tốt và mạnh mẽ cho một thuật toán trên một vấn đề cụ thể.\n",
    "\n",
    "Python scikit-learn cung cấp hai phương pháp đơn giản cho việc điều chỉnh tham số thuật toán:\n",
    "- **Điều chỉnh tham số tìm kiếm lưới (Grid Search)**\n",
    "- **Điều chỉnh tham số tìm kiếm ngẫu nhiên (Random Search)**"
   ]
  },
  {
   "cell_type": "markdown",
   "id": "662488fe",
   "metadata": {},
   "source": [
    "## 16.2 Điều Chỉnh Tham Số Tìm Kiếm Lưới\n",
    "\n",
    "**Tìm kiếm lưới** là một phương pháp tiếp cận để điều chỉnh tham số sẽ xây dựng và đánh giá có hệ thống một mô hình cho mỗi tổ hợp tham số thuật toán được chỉ định trong một lưới. Bạn có thể thực hiện tìm kiếm lưới bằng cách sử dụng lớp `GridSearchCV`."
   ]
  },
  {
   "cell_type": "code",
   "execution_count": null,
   "id": "a719ab37",
   "metadata": {},
   "outputs": [],
   "source": [
    "# Grid Search for Algorithm Tuning\n",
    "import numpy\n",
    "from pandas import read_csv\n",
    "from sklearn.linear_model import Ridge\n",
    "from sklearn.model_selection import GridSearchCV\n",
    "\n",
    "filename = 'pima-indians-diabetes.data.csv'\n",
    "names = ['preg', 'plas', 'pres', 'skin', 'test', 'mass', 'pedi', 'age', 'class']\n",
    "dataframe = read_csv(filename, names=names)\n",
    "array = dataframe.values\n",
    "X = array[:,0:8]\n",
    "Y = array[:,8]\n",
    "alphas = numpy.array([1,0.1,0.01,0.001,0.0001,0])\n",
    "param_grid = dict(alpha=alphas)\n",
    "model = Ridge()\n",
    "grid = GridSearchCV(estimator=model, param_grid=param_grid)\n",
    "grid.fit(X, Y)\n",
    "print(grid.best_score_)\n",
    "print(grid.best_estimator_.alpha)"
   ]
  },
  {
   "cell_type": "markdown",
   "id": "a7f7d8da",
   "metadata": {},
   "source": [
    "## 16.3 Điều Chỉnh Tham Số Tìm Kiếm Ngẫu Nhiên\n",
    "\n",
    "**Tìm kiếm ngẫu nhiên** là một phương pháp tiếp cận để điều chỉnh tham số sẽ lấy mẫu tham số thuật toán từ một phân phối ngẫu nhiên (ví dụ: đều) cho một số lượng lần lặp cố định. Một mô hình được xây dựng và đánh giá cho mỗi tổ hợp tham số được chọn. Bạn có thể thực hiện tìm kiếm ngẫu nhiên cho tham số thuật toán bằng cách sử dụng lớp `RandomizedSearchCV`."
   ]
  },
  {
   "cell_type": "code",
   "execution_count": null,
   "id": "bd112c79",
   "metadata": {},
   "outputs": [],
   "source": [
    "# Randomized for Algorithm Tuning\n",
    "import numpy\n",
    "from pandas import read_csv\n",
    "from scipy.stats import uniform\n",
    "from sklearn.linear_model import Ridge\n",
    "from sklearn.model_selection import RandomizedSearchCV\n",
    "\n",
    "filename = 'pima-indians-diabetes.data.csv'\n",
    "names = ['preg', 'plas', 'pres', 'skin', 'test', 'mass', 'pedi', 'age', 'class']\n",
    "dataframe = read_csv(filename, names=names)\n",
    "array = dataframe.values\n",
    "X = array[:,0:8]\n",
    "Y = array[:,8]\n",
    "param_grid = {'alpha': uniform()}\n",
    "model = Ridge()\n",
    "rsearch = RandomizedSearchCV(estimator=model, param_distributions=param_grid, n_iter=100, random_state=7)\n",
    "rsearch.fit(X, Y)\n",
    "print(rsearch.best_score_)\n",
    "print(rsearch.best_estimator_.alpha)"
   ]
  }
 ],
 "metadata": {
  "language_info": {
   "name": "python"
  }
 },
 "nbformat": 4,
 "nbformat_minor": 5
}
