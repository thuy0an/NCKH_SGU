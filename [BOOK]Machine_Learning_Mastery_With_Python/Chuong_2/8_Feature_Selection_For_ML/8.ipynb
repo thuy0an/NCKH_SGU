{
 "cells": [
  {
   "cell_type": "markdown",
   "id": "3e8b6291",
   "metadata": {},
   "source": [
    "# Chương 8: Lựa Chọn Đặc Trưng Cho Học Máy\n",
    "\n",
    "Các đặc trưng dữ liệu sử dụng để huấn luyện mô hình học máy có ảnh hưởng rất lớn đến hiệu suất có thể đạt được. Các đặc trưng không liên quan hoặc liên quan một phần có thể ảnh hưởng tiêu cực đến hiệu suất mô hình. Trong chương này, bạn sẽ khám phá các kỹ thuật lựa chọn đặc trưng tự động mà bạn có thể sử dụng để chuẩn bị dữ liệu học máy của mình trong Python với scikit-learn."
   ]
  },
  {
   "cell_type": "markdown",
   "id": "5e933217",
   "metadata": {},
   "source": [
    "## 8.1 Lựa Chọn Đặc Trưng\n",
    "\n",
    "**Lựa Chọn Đặc Trưng** là quá trình tự động chọn những đặc trưng trong dữ liệu của bạn có đóng góp nhiều nhất cho biến dự đoán hoặc đầu ra mà bạn quan tâm. Việc có các đặc trưng không liên quan trong dữ liệu có thể làm giảm độ chính xác của nhiều mô hình, đặc biệt là các thuật toán tuyến tính như hồi quy tuyến tính và hồi quy logistic.\n",
    "\n",
    "**Lợi ích của Lựa Chọn Đặc Trưng:**\n",
    "- **Giảm Overfitting**: Dữ liệu ít dư thừa đồng nghĩa với ít cơ hội đưa ra quyết định dựa trên nhiễu.\n",
    "- **Cải Thiện Độ Chính Xác**: Dữ liệu ít gây hiểu lầm đồng nghĩa với độ chính xác mô hình được cải thiện.\n",
    "- **Giảm Thời Gian Huấn Luyện**: Dữ liệu ít hơn đồng nghĩa với thuật toán huấn luyện nhanh hơn."
   ]
  },
  {
   "cell_type": "markdown",
   "id": "662488fe",
   "metadata": {},
   "source": [
    "## 8.2 Lựa Chọn Đơn Biến\n",
    "\n",
    "**Lựa Chọn Đơn Biến** sử dụng các kiểm định thống kê để chọn những đặc trưng có mối quan hệ mạnh nhất với biến đầu ra. Thư viện scikit-learn cung cấp lớp `SelectKBest` có thể được sử dụng với một loạt các kiểm định thống kê khác nhau để chọn một số lượng đặc trưng cụ thể."
   ]
  },
  {
   "cell_type": "code",
   "execution_count": null,
   "id": "a719ab37",
   "metadata": {},
   "outputs": [],
   "source": [
    "from pandas import read_csv\n",
    "from numpy import set_printoptions\n",
    "from sklearn.feature_selection import SelectKBest\n",
    "from sklearn.feature_selection import chi2\n",
    "\n",
    "filename = 'pima-indians-diabetes.data.csv'\n",
    "names = ['preg', 'plas', 'pres', 'skin', 'test', 'mass', 'pedi', 'age', 'class']\n",
    "dataframe = read_csv(filename, names=names)\n",
    "array = dataframe.values\n",
    "X = array[:,0:8]\n",
    "Y = array[:,8]\n",
    "# feature extraction\n",
    "test = SelectKBest(score_func=chi2, k=4)\n",
    "fit = test.fit(X, Y)\n",
    "# summarize scores\n",
    "set_printoptions(precision=3)\n",
    "print(fit.scores_)\n",
    "features = fit.transform(X)\n",
    "# summarize selected features\n",
    "print(features[0:5,:])"
   ]
  },
  {
   "cell_type": "markdown",
   "id": "f2332d3b",
   "metadata": {},
   "source": [
    "## 8.3 Loại Bỏ Đặc Trưng Đệ Quy (RFE)\n",
    "\n",
    "**Loại Bỏ Đặc Trưng Đệ Quy (RFE)** hoạt động bằng cách loại bỏ đệ quy các thuộc tính và xây dựng mô hình trên những thuộc tính còn lại. Nó sử dụng độ chính xác của mô hình để xác định thuộc tính nào (và tổ hợp thuộc tính nào) đóng góp nhiều nhất vào việc dự đoán thuộc tính mục tiêu."
   ]
  },
  {
   "cell_type": "code",
   "execution_count": null,
   "id": "a7f7d8da",
   "metadata": {},
   "outputs": [],
   "source": [
    "from pandas import read_csv\n",
    "from sklearn.feature_selection import RFE\n",
    "from sklearn.linear_model import LogisticRegression\n",
    "\n",
    "filename = 'pima-indians-diabetes.data.csv'\n",
    "names = ['preg', 'plas', 'pres', 'skin', 'test', 'mass', 'pedi', 'age', 'class']\n",
    "dataframe = read_csv(filename, names=names)\n",
    "array = dataframe.values\n",
    "X = array[:,0:8]\n",
    "Y = array[:,8]\n",
    "# feature extraction\n",
    "model = LogisticRegression()\n",
    "rfe = RFE(model, 3)\n",
    "fit = rfe.fit(X, Y)\n",
    "print(\"Num Features: %d\" % fit.n_features_)\n",
    "print(\"Selected Features: %s\" % fit.support_)\n",
    "print(\"Feature Ranking: %s\" % fit.ranking_)"
   ]
  },
  {
   "cell_type": "markdown",
   "id": "bd112c79",
   "metadata": {},
   "source": [
    "## 8.4 Phân Tích Thành Phần Chính (PCA)\n",
    "\n",
    "**Phân Tích Thành Phần Chính (PCA)** là một kỹ thuật giảm dữ liệu sử dụng đại số tuyến tính để chuyển đổi tập dữ liệu thành dạng nén. PCA cho phép bạn chọn số lượng thành phần chính trong kết quả chuyển đổi."
   ]
  },
  {
   "cell_type": "code",
   "execution_count": null,
   "id": "d19d3b4a",
   "metadata": {},
   "outputs": [],
   "source": [
    "from pandas import read_csv\n",
    "from sklearn.decomposition import PCA\n",
    "\n",
    "filename = 'pima-indians-diabetes.data.csv'\n",
    "names = ['preg', 'plas', 'pres', 'skin', 'test', 'mass', 'pedi', 'age', 'class']\n",
    "dataframe = read_csv(filename, names=names)\n",
    "array = dataframe.values\n",
    "X = array[:,0:8]\n",
    "Y = array[:,8]\n",
    "# feature extraction\n",
    "pca = PCA(n_components=3)\n",
    "fit = pca.fit(X)\n",
    "# summarize components\n",
    "print(\"Explained Variance: %s\" % fit.explained_variance_ratio_)\n",
    "print(fit.components_)"
   ]
  },
  {
   "cell_type": "markdown",
   "id": "15fbb642",
   "metadata": {},
   "source": [
    "## 8.5 Độ Quan Trọng Của Đặc Trưng\n",
    "\n",
    "**Độ Quan Trọng Của Đặc Trưng** là một kỹ thuật được sử dụng để ước tính tầm quan trọng của các đặc trưng bằng cách sử dụng các mô hình như **Random Forest** và **Extra Trees**. Các mô hình này có thể cung cấp một điểm số cho mỗi đặc trưng, chỉ ra tầm quan trọng của nó trong việc dự đoán thuộc tính mục tiêu."
   ]
  },
  {
   "cell_type": "code",
   "execution_count": null,
   "id": "d31a3bf9",
   "metadata": {},
   "outputs": [],
   "source": [
    "from pandas import read_csv\n",
    "from sklearn.ensemble import ExtraTreesClassifier\n",
    "\n",
    "filename = 'pima-indians-diabetes.data.csv'\n",
    "names = ['preg', 'plas', 'pres', 'skin', 'test', 'mass', 'pedi', 'age', 'class']\n",
    "dataframe = read_csv(filename, names=names)\n",
    "array = dataframe.values\n",
    "X = array[:,0:8]\n",
    "Y = array[:,8]\n",
    "# feature extraction\n",
    "model = ExtraTreesClassifier()\n",
    "model.fit(X, Y)\n",
    "print(model.feature_importances_)"
   ]
  },
  {
   "cell_type": "markdown",
   "id": "9200a253",
   "metadata": {},
   "source": [
    "## 8.6 Tóm Tắt\n",
    "\n",
    "Trong chương này, bạn đã học về bốn kỹ thuật lựa chọn đặc trưng tự động khác nhau để chuẩn bị dữ liệu học máy trong Python với scikit-learn:\n",
    "\n",
    "- **Lựa Chọn Đơn Biến**\n",
    "- **Loại Bỏ Đặc Trưng Đệ Quy (RFE)**\n",
    "- **Phân Tích Thành Phần Chính (PCA)**\n",
    "- **Độ Quan Trọng Của Đặc Trưng**"
   ]
  }
 ],
 "metadata": {
  "language_info": {
   "name": "python"
  }
 },
 "nbformat": 4,
 "nbformat_minor": 5
}
