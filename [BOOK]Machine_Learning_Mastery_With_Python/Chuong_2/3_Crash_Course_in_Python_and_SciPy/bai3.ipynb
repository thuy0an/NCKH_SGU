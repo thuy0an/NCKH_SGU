{
 "cells": [
  {
   "cell_type": "markdown",
   "id": "704f6abd",
   "metadata": {},
   "source": [
    "# 📘 Chương 3: Khóa học cấp tốc về Python và SciPy\n",
    "Chương này cung cấp các kiến thức nền tảng về Python và các thư viện quan trọng cho Machine Learning: NumPy, Matplotlib, Pandas."
   ]
  },
  {
   "cell_type": "markdown",
   "id": "fa9f8dd6",
   "metadata": {},
   "source": [
    "## 3.1 Giới thiệu nhanh về Python\n",
    "\n",
    "### 📌 Gán giá trị (Assignment)\n",
    "- Python hỗ trợ nhiều kiểu dữ liệu cơ bản như chuỗi (string), số thực (float), số nguyên (int), Boolean và None.\n",
    "- Bạn có thể gán giá trị cho biến mà không cần khai báo kiểu dữ liệu trước."
   ]
  },
  {
   "cell_type": "code",
   "execution_count": 1,
   "id": "d36636d3",
   "metadata": {},
   "outputs": [
    {
     "name": "stdout",
     "output_type": "stream",
     "text": [
      "h\n",
      "11\n",
      "hello world\n",
      "123.1\n",
      "10\n",
      "True False\n",
      "1 2 3\n",
      "None\n"
     ]
    }
   ],
   "source": [
    "# String\n",
    "data = 'hello world'\n",
    "print(data[0])\n",
    "print(len(data))\n",
    "print(data)\n",
    "# Number\n",
    "value = 123.1\n",
    "print(value)\n",
    "value = 10\n",
    "print(value)\n",
    "# Boolean\n",
    "a = True\n",
    "b = False\n",
    "print(a, b)\n",
    "# Multiple Assignment\n",
    "a, b, c = 1, 2, 3\n",
    "print(a, b, c)\n",
    "# No value\n",
    "a = None\n",
    "print(a)"
   ]
  },
  {
   "cell_type": "markdown",
   "id": "dae2a139",
   "metadata": {},
   "source": [
    "### 🔄 Cấu trúc điều khiển (Flow Control)\n",
    "- Câu lệnh điều kiện if/elif/else giúp bạn kiểm tra điều kiện và thực hiện hành động dựa trên kết quả kiểm tra.\n",
    "- Vòng lặp for dùng để lặp qua dãy số hoặc danh sách.\n",
    "- Vòng lặp while tiếp tục lặp khi điều kiện còn đúng."
   ]
  },
  {
   "cell_type": "code",
   "execution_count": 2,
   "id": "6617ebc5",
   "metadata": {},
   "outputs": [
    {
     "name": "stdout",
     "output_type": "stream",
     "text": [
      "That is fast\n",
      "0\n",
      "1\n",
      "2\n",
      "3\n",
      "4\n",
      "5\n",
      "6\n",
      "7\n",
      "8\n",
      "9\n",
      "0\n",
      "1\n",
      "2\n",
      "3\n",
      "4\n",
      "5\n",
      "6\n",
      "7\n",
      "8\n",
      "9\n"
     ]
    }
   ],
   "source": [
    "# If-then-else\n",
    "value = 99\n",
    "if value == 99:\n",
    "    print('That is fast')\n",
    "elif value > 200:\n",
    "    print('That is too fast')\n",
    "else:\n",
    "    print('That is safe')\n",
    "# For loop\n",
    "for i in range(10):\n",
    "    print(i)\n",
    "# While loop\n",
    "i = 0\n",
    "while i < 10:\n",
    "    print(i)\n",
    "    i += 1"
   ]
  },
  {
   "cell_type": "markdown",
   "id": "59f312e9",
   "metadata": {},
   "source": [
    "### 📦 Cấu trúc dữ liệu (Data Structures)\n",
    "- Tuple (bộ giá trị): Là một tập hợp dữ liệu cố định, không thay đổi được.\n",
    "- List (danh sách): Có thể thay đổi được, thêm/xóa phần tử dễ dàng.\n",
    "- Dictionary (từ điển): Lưu trữ dữ liệu dưới dạng key-value, rất hữu ích khi bạn cần truy xuất theo tên."
   ]
  },
  {
   "cell_type": "code",
   "execution_count": 3,
   "id": "2a9bb5af",
   "metadata": {},
   "outputs": [
    {
     "name": "stdout",
     "output_type": "stream",
     "text": [
      "(1, 2, 3)\n",
      "Zeroth Value: 1\n",
      "List Length: 4\n",
      "1\n",
      "2\n",
      "3\n",
      "4\n",
      "A value: 1\n",
      "A value: 11\n",
      "Keys: dict_keys(['a', 'b', 'c'])\n",
      "Values: dict_values([11, 2, 3])\n",
      "11\n",
      "2\n",
      "3\n"
     ]
    }
   ],
   "source": [
    "# Tuple\n",
    "a = (1, 2, 3)\n",
    "print(a)\n",
    "# List\n",
    "mylist = [1, 2, 3]\n",
    "print(\"Zeroth Value: %d\" % mylist[0])\n",
    "mylist.append(4)\n",
    "print(\"List Length: %d\" % len(mylist))\n",
    "for value in mylist:\n",
    "    print(value)\n",
    "# Dictionary\n",
    "mydict = {'a': 1, 'b': 2, 'c': 3}\n",
    "print(\"A value: %d\" % mydict['a'])\n",
    "mydict['a'] = 11\n",
    "print(\"A value: %d\" % mydict['a'])\n",
    "print(\"Keys: %s\" % mydict.keys())\n",
    "print(\"Values: %s\" % mydict.values())\n",
    "for key in mydict.keys():\n",
    "    print(mydict[key])"
   ]
  },
  {
   "cell_type": "markdown",
   "id": "501f3984",
   "metadata": {},
   "source": [
    "### 🧮 Hàm (Function)\n",
    "- Hàm trong Python giúp bạn đóng gói một đoạn mã để thực hiện một công việc cụ thể và có thể tái sử dụng.\n",
    "- Hàm có thể nhận tham số và trả về kết quả."
   ]
  },
  {
   "cell_type": "code",
   "execution_count": 4,
   "id": "cb900507",
   "metadata": {},
   "outputs": [
    {
     "name": "stdout",
     "output_type": "stream",
     "text": [
      "4\n"
     ]
    }
   ],
   "source": [
    "def mysum(x, y):\n",
    "    return x + y\n",
    "result = mysum(1, 3)\n",
    "print(result)"
   ]
  },
  {
   "cell_type": "markdown",
   "id": "d177f61d",
   "metadata": {},
   "source": [
    "## 3.2 Giới thiệu nhanh về NumPy\n",
    "**NumPy** là thư viện hỗ trợ tính toán khoa học và xử lý mảng (array) hiệu suất cao."
   ]
  },
  {
   "cell_type": "code",
   "execution_count": 5,
   "id": "0b96ca2c",
   "metadata": {},
   "outputs": [
    {
     "name": "stdout",
     "output_type": "stream",
     "text": [
      "[1 2 3]\n",
      "(3,)\n"
     ]
    }
   ],
   "source": [
    "# Create Array\n",
    "import numpy\n",
    "mylist = [1, 2, 3]\n",
    "myarray = numpy.array(mylist)\n",
    "print(myarray)\n",
    "print(myarray.shape)"
   ]
  },
  {
   "cell_type": "markdown",
   "id": "7d4620db",
   "metadata": {},
   "source": [
    "## 3.3 Giới thiệu nhanh về Matplotlib\n",
    "**Matplotlib** là thư viện để tạo biểu đồ và trực quan hóa dữ liệu."
   ]
  },
  {
   "cell_type": "code",
   "execution_count": 6,
   "id": "6a022acf",
   "metadata": {},
   "outputs": [
    {
     "data": {
      "image/png": "[encoded data removed]",
      "text/plain": [
       "<Figure size 640x480 with 1 Axes>"
      ]
     },
     "metadata": {},
     "output_type": "display_data"
    }
   ],
   "source": [
    "# Line Plot\n",
    "import matplotlib.pyplot as plt\n",
    "myarray = numpy.array([1, 2, 3])\n",
    "plt.plot(myarray)\n",
    "plt.xlabel('some x axis')\n",
    "plt.ylabel('some y axis')\n",
    "plt.show()"
   ]
  },
  {
   "cell_type": "markdown",
   "id": "f9ba1629",
   "metadata": {},
   "source": [
    "## 3.4 Giới thiệu nhanh về Pandas\n",
    "**Pandas** cung cấp các công cụ mạnh mẽ để thao tác và phân tích dữ liệu dưới dạng bảng.\n",
    "\n",
    "Series\n",
    "- Một Series là mảng một chiều có chỉ số (index) và giá trị (value), tương tự như một cột trong bảng dữ liệu.\n",
    "\n",
    "DataFrame\n",
    "- DataFrame là một bảng dữ liệu hai chiều, nơi bạn có thể định nghĩa tên cột và tên hàng, giúp dễ dàng thao tác với dữ liệu."
   ]
  },
  {
   "cell_type": "code",
   "execution_count": 7,
   "id": "aebb99fb",
   "metadata": {},
   "outputs": [
    {
     "name": "stdout",
     "output_type": "stream",
     "text": [
      "a    1\n",
      "b    2\n",
      "c    3\n",
      "dtype: int64\n"
     ]
    }
   ],
   "source": [
    "# Series\n",
    "import pandas\n",
    "myarray = numpy.array([1, 2, 3])\n",
    "rownames = ['a', 'b', 'c']\n",
    "myseries = pandas.Series(myarray, index=rownames)\n",
    "print(myseries)"
   ]
  },
  {
   "cell_type": "markdown",
   "id": "4e35de4b",
   "metadata": {},
   "source": [
    "## 3.5 Tổng kết chương\n",
    "Chương này cung cấp các kiến thức cơ bản về Python và ba thư viện quan trọng: NumPy, Matplotlib, Pandas.\n",
    "Bạn đã học đủ để có thể bắt đầu làm việc với dữ liệu và chuẩn bị cho các bài toán Machine Learning."
   ]
  }
 ],
 "metadata": {
  "kernelspec": {
   "display_name": "ProjectNCKH",
   "language": "python",
   "name": "python3"
  },
  "language_info": {
   "codemirror_mode": {
    "name": "ipython",
    "version": 3
   },
   "file_extension": ".py",
   "mimetype": "text/x-python",
   "name": "python",
   "nbconvert_exporter": "python",
   "pygments_lexer": "ipython3",
   "version": "3.9.21"
  }
 },
 "nbformat": 4,
 "nbformat_minor": 5
}
