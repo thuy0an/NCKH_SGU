{
 "cells": [
  {
   "cell_type": "markdown",
   "id": "1aef7335",
   "metadata": {},
   "source": [
    "# Chương 5 - Hiểu Dữ Liệu Của Bạn Với Thống Kê Mô Tả\n",
    "Chương này cung cấp các phương pháp để hiểu dữ liệu trước khi xây dựng các mô hình học máy.\n",
    "Khi bắt đầu với một tập dữ liệu, không có cách nào thay thế việc \"nhìn vào\" dữ liệu thô. Việc này giúp bạn phát hiện ra những điều mà bạn không thể nhận thấy thông qua các phân tích thống kê hoặc thuật toán."
   ]
  },
  {
   "cell_type": "markdown",
   "id": "0a29d42d",
   "metadata": {},
   "source": [
    "## 5.1 Xem Nhanh Dữ Liệu\n",
    "- **Mục tiêu**: Cung cấp cái nhìn trực quan về dữ liệu, đặc biệt là để nhận diện nhanh chóng các mẫu hoặc bất thường trong dữ liệu.\n",
    "- **Tại sao quan trọng**: Việc kiểm tra dữ liệu đầu tiên giúp bạn có cái nhìn tổng quan về bộ dữ liệu và hiểu được cấu trúc của nó trước khi thực hiện các phân tích phức tạp hơn."
   ]
  },
  {
   "cell_type": "code",
   "execution_count": null,
   "id": "5e4f3df4",
   "metadata": {},
   "outputs": [],
   "source": [
    "# filepath: c:\\YayCode\\CodeWithPython\\ProjectNCKH\\NCKH_SGU\\[BOOK] Machine Learning Mastery With Python\\Chuong_2\\5  Understand Your Data With  Descriptive Statistics\\Peek at Your Data.py\n",
    "from pandas import read_csv \n",
    "filename = \"pima-indians-diabetes.data.csv\" \n",
    "names = ['preg', 'plas', 'pres', 'skin', 'test', 'mass', 'pedi', 'age', 'class']\n",
    "data = read_csv(filename, names=names) \n",
    "peek = data.head(20) \n",
    "print(peek)"
   ]
  },
  {
   "cell_type": "markdown",
   "id": "7361cb91",
   "metadata": {},
   "source": [
    "## 5.2 Kích Thước Dữ Liệu\n",
    "- **Mục tiêu**: Hiểu rõ về kích thước của dữ liệu để có kế hoạch xử lý phù hợp.\n",
    "- **Tại sao quan trọng**: Việc biết được kích thước của dữ liệu giúp bạn quyết định xem có đủ dữ liệu để huấn luyện mô hình hay không, và liệu bạn có cần giảm bớt số lượng đặc trưng hay không.\n",
    "Khi làm việc với dữ liệu, bạn cần hiểu rõ số lượng dữ liệu bạn có. Điều này bao gồm số lượng hàng (instances) và cột (attributes)."
   ]
  },
  {
   "cell_type": "code",
   "execution_count": null,
   "id": "6f853556",
   "metadata": {},
   "outputs": [],
   "source": [
    "# filepath: c:\\YayCode\\CodeWithPython\\ProjectNCKH\\NCKH_SGU\\[BOOK] Machine Learning Mastery With Python\\Chuong_2\\5  Understand Your Data With  Descriptive Statistics\\Dimensions of Your Data.py\n",
    "from pandas import read_csv \n",
    "filename = \"pima-indians-diabetes.data.csv\" \n",
    "names = ['preg', 'plas', 'pres', 'skin', 'test', 'mass', 'pedi', 'age', 'class']\n",
    "data = read_csv(filename, names=names) \n",
    "shape = data.shape \n",
    "print(shape)"
   ]
  },
  {
   "cell_type": "markdown",
   "id": "cafa1672",
   "metadata": {},
   "source": [
    "## 5.3 Kiểu Dữ Liệu Của Từng Thuộc Tính\n",
    "Kiểu dữ liệu của từng thuộc tính là một yếu tố quan trọng trong phân tích dữ liệu. Dữ liệu có thể là chuỗi, số nguyên, hoặc số thực.\n",
    "- **Mục tiêu**: Kiểm tra kiểu dữ liệu của các thuộc tính trong dữ liệu.\n",
    "- **Tại sao quan trọng**: Việc hiểu kiểu dữ liệu giúp bạn có thể quyết định liệu có cần chuyển đổi dữ liệu thành một kiểu khác hay không."
   ]
  },
  {
   "cell_type": "code",
   "execution_count": null,
   "id": "a79c8a3c",
   "metadata": {},
   "outputs": [],
   "source": [
    "# filepath: c:\\YayCode\\CodeWithPython\\ProjectNCKH\\NCKH_SGU\\[BOOK] Machine Learning Mastery With Python\\Chuong_2\\5  Understand Your Data With  Descriptive Statistics\\Data Type For Each Attribute.py\n",
    "from pandas import read_csv \n",
    "filename = \"pima-indians-diabetes.data.csv\" \n",
    "names = ['preg', 'plas', 'pres', 'skin', 'test', 'mass', 'pedi', 'age', 'class']\n",
    "data = read_csv(filename, names=names) \n",
    "types = data.dtypes \n",
    "print(types)"
   ]
  },
  {
   "cell_type": "markdown",
   "id": "cb1abd18",
   "metadata": {},
   "source": [
    "## 5.4 Thống Kê Mô Tả\n",
    "Các thống kê mô tả là các công cụ mạnh mẽ giúp bạn hiểu về phân phối và đặc điểm của từng thuộc tính trong bộ dữ liệu.\n",
    "- **Mục tiêu**: Tóm tắt dữ liệu thông qua các chỉ số thống kê cơ bản như trung bình, độ lệch chuẩn, giá trị cực tiểu và cực đại.\n",
    "- **Tại sao quan trọng**: Các thống kê mô tả cung cấp cái nhìn tổng quan về sự phân phối của dữ liệu, từ đó giúp bạn nhận diện các vấn đề như dữ liệu không đồng đều hoặc các giá trị ngoại lệ."
   ]
  },
  {
   "cell_type": "code",
   "execution_count": null,
   "id": "eb1e1377",
   "metadata": {},
   "outputs": [],
   "source": [
    "# filepath: c:\\YayCode\\CodeWithPython\\ProjectNCKH\\NCKH_SGU\\[BOOK] Machine Learning Mastery With Python\\Chuong_2\\5  Understand Your Data With  Descriptive Statistics\\Descriptive Statistics.py\n",
    "from pandas import read_csv \n",
    "from pandas import set_option \n",
    "filename = \"pima-indians-diabetes.data.csv\" \n",
    "names = ['preg', 'plas', 'pres', 'skin', 'test', 'mass', 'pedi', 'age', 'class']\n",
    "data = read_csv(filename, names=names) \n",
    "set_option('display.width', 100) \n",
    "set_option('precision', 3) \n",
    "description = data.describe() \n",
    "print(description)"
   ]
  },
  {
   "cell_type": "markdown",
   "id": "15dee223",
   "metadata": {},
   "source": [
    "## 5.5 Phân Bố Lớp (Chỉ Dành Cho Phân Loại)\n",
    "Khi làm việc với bài toán phân loại, việc kiểm tra sự phân bố của các lớp là rất quan trọng.\n",
    "- **Mục tiêu**: Kiểm tra sự phân bố của các lớp trong dữ liệu phân loại.\n",
    "- **Tại sao quan trọng**: Nếu các lớp bị mất cân đối, mô hình có thể gặp khó khăn trong việc phân loại chính xác các lớp ít gặp hơn, do đó bạn có thể cần các kỹ thuật xử lý đặc biệt."
   ]
  },
  {
   "cell_type": "code",
   "execution_count": null,
   "id": "736bed43",
   "metadata": {},
   "outputs": [],
   "source": [
    "# filepath: c:\\YayCode\\CodeWithPython\\ProjectNCKH\\NCKH_SGU\\[BOOK] Machine Learning Mastery With Python\\Chuong_2\\5  Understand Your Data With  Descriptive Statistics\\Class Distribution (Classification Only).py\n",
    "from pandas import read_csv \n",
    "filename = \"pima-indians-diabetes.data.csv\" \n",
    "names = ['preg', 'plas', 'pres', 'skin', 'test', 'mass', 'pedi', 'age', 'class']\n",
    "data = read_csv(filename, names=names)\n",
    "class_counts = data.groupby('class').size() \n",
    "print(class_counts)"
   ]
  },
  {
   "cell_type": "markdown",
   "id": "e65131b3",
   "metadata": {},
   "source": [
    "## 5.6 Tương Quan Giữa Các Thuộc Tính\n",
    "Sự tương quan giữa các thuộc tính cho biết mức độ liên hệ giữa hai hoặc nhiều thuộc tính trong dữ liệu.\n",
    "- **Mục tiêu**: Xác định các thuộc tính có mối quan hệ tương quan mạnh với nhau.\n",
    "- **Tại sao quan trọng**: Nếu hai hoặc nhiều thuộc tính có mối quan hệ tương quan mạnh, bạn có thể cân nhắc loại bỏ hoặc kết hợp chúng để tránh đa cộng tuyến và cải thiện hiệu suất mô hình."
   ]
  },
  {
   "cell_type": "code",
   "execution_count": null,
   "id": "47d829a6",
   "metadata": {},
   "outputs": [],
   "source": [
    "# filepath: c:\\YayCode\\CodeWithPython\\ProjectNCKH\\NCKH_SGU\\[BOOK] Machine Learning Mastery With Python\\Chuong_2\\5  Understand Your Data With  Descriptive Statistics\\Correlations Between Attributes.py\n",
    "from pandas import read_csv \n",
    "from pandas import set_option \n",
    "filename = \"pima-indians-diabetes.data.csv\" \n",
    "names = ['preg', 'plas', 'pres', 'skin', 'test', 'mass', 'pedi', 'age', 'class']\n",
    "data = read_csv(filename, names=names) \n",
    "set_option('display.width', 100) \n",
    "set_option('precision', 3) \n",
    "correlations = data.corr(method='pearson') \n",
    "print(correlations)"
   ]
  },
  {
   "cell_type": "markdown",
   "id": "c56afec9",
   "metadata": {},
   "source": [
    "## 5.7 Độ Lệch Của Phân Phối Đơn Biến\n",
    "Skewness (độ lệch) cho biết mức độ lệch của phân phối dữ liệu so với phân phối chuẩn (Gaussian).\n",
    "- **Mục tiêu**: Kiểm tra độ lệch của các thuộc tính trong dữ liệu.\n",
    "- **Tại sao quan trọng**: Nếu dữ liệu có độ lệch cao, bạn có thể cần phải chuyển đổi hoặc chuẩn hóa dữ liệu để cải thiện hiệu suất của mô hình."
   ]
  },
  {
   "cell_type": "code",
   "execution_count": null,
   "id": "05f507f3",
   "metadata": {},
   "outputs": [],
   "source": [
    "# filepath: c:\\YayCode\\CodeWithPython\\ProjectNCKH\\NCKH_SGU\\[BOOK] Machine Learning Mastery With Python\\Chuong_2\\5  Understand Your Data With  Descriptive Statistics\\Skew of Univariate Distributions.py\n",
    "from pandas import read_csv \n",
    "filename = \"pima-indians-diabetes.data.csv\" \n",
    "names = ['preg', 'plas', 'pres', 'skin', 'test', 'mass', 'pedi', 'age', 'class']\n",
    "data = read_csv(filename, names=names) \n",
    "skew = data.skew() \n",
    "print(skew)"
   ]
  },
  {
   "cell_type": "markdown",
   "id": "7b284002",
   "metadata": {},
   "source": [
    "## 5.8 Lời Khuyên Quan Trọng\n",
    "- Luôn kiểm tra dữ liệu trước khi áp dụng các thuật toán học máy.\n",
    "- Sử dụng thống kê mô tả để nhận diện các vấn đề tiềm ẩn như giá trị thiếu hoặc ngoại lệ.\n",
    "- Ghi lại các quan sát để tham khảo trong tương lai."
   ]
  },
  {
   "cell_type": "markdown",
   "id": "553c8b8f",
   "metadata": {},
   "source": [
    "## 5.9 Tóm Tắt\n",
    "Chương này cung cấp các phương pháp quan trọng để hiểu rõ dữ liệu trước khi bắt đầu xây dựng mô hình học máy. Những phương pháp này bao gồm việc xem qua dữ liệu, kiểm tra kích thước dữ liệu, xác định kiểu dữ liệu, phân tích thống kê mô tả, kiểm tra phân bố lớp, kiểm tra tương quan giữa các thuộc tính và đánh giá độ lệch của các phân phối.\n"
   ]
  }
 ],
 "metadata": {
  "language_info": {
   "name": "python"
  }
 },
 "nbformat": 4,
 "nbformat_minor": 5
}
