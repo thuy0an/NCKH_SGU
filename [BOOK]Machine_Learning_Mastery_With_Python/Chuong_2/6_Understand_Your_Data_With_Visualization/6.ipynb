{
 "cells": [
  {
   "cell_type": "markdown",
   "id": "5613f33b",
   "metadata": {},
   "source": [
    "# Chapter 6: Hiểu dữ liệu của bạn thông qua trực quan hóa\n"
   ]
  },
  {
   "cell_type": "markdown",
   "id": "de58fb25",
   "metadata": {},
   "source": [
    "## 6.1 Univariate Plots (Biểu đồ Đơn Biến)\n",
    "\n",
    "Phần này tập trung vào cách sử dụng các biểu đồ để hiểu rõ hơn từng thuộc tính của dữ liệu một cách độc lập, tức là xem xét sự phân phối và đặc điểm của từng biến mà không phụ thuộc vào các biến khác."
   ]
  },
  {
   "cell_type": "markdown",
   "id": "b993d29b",
   "metadata": {},
   "source": [
    "### 1. Histograms (Biểu đồ tần suất)\n",
    "\n",
    "Biểu đồ tần suất là công cụ nhanh chóng giúp bạn hiểu được sự phân phối của một thuộc tính. Dữ liệu được chia thành các khoảng (bins), và mỗi khoảng này sẽ thể hiện số lượng quan sát trong đó.\n",
    "- **Lợi ích**: Bạn có thể nhận diện được phân phối của dữ liệu (ví dụ: phân phối chuẩn Gaussian, phân phối lệch hoặc phân phối mũ).\n",
    "- **Công dụng**: Giúp phát hiện các điểm ngoại lệ (outliers) và hiểu rõ hơn về sự phân bố của dữ liệu."
   ]
  },
  {
   "cell_type": "code",
   "execution_count": null,
   "id": "38478768",
   "metadata": {},
   "outputs": [],
   "source": [
    "# Univariate Histograms\n",
    "from matplotlib import pyplot\n",
    "from pandas import read_csv\n",
    "filename = 'pima-indians-diabetes.data.csv'\n",
    "names = ['preg', 'plas', 'pres', 'skin', 'test', 'mass', 'pedi', 'age', 'class']\n",
    "data = read_csv(filename, names=names)\n",
    "data.hist()\n",
    "pyplot.show()"
   ]
  },
  {
   "cell_type": "markdown",
   "id": "c60784bb",
   "metadata": {},
   "source": [
    "### 2. Density Plots (Biểu đồ mật độ)\n",
    "\n",
    "Biểu đồ mật độ là một dạng biểu đồ tần suất nhưng thay vì vẽ các cột, ta sẽ có một đường cong mượt mà thể hiện sự phân bố dữ liệu. Điều này giúp bạn dễ dàng nhận diện các xu hướng trong dữ liệu.\n",
    "- **Lợi ích**: Cung cấp một cái nhìn trực quan hơn về phân phối của dữ liệu.\n",
    "- **Công dụng**: Giúp nhận diện các thuộc tính có phân phối gần giống nhau hoặc các điểm bất thường trong dữ liệu."
   ]
  },
  {
   "cell_type": "code",
   "execution_count": null,
   "id": "9559403d",
   "metadata": {},
   "outputs": [],
   "source": [
    "# Univariate Density Plots\n",
    "data.plot(kind='density', subplots=True, layout=(3,3), sharex=False)\n",
    "pyplot.show()"
   ]
  },
  {
   "cell_type": "markdown",
   "id": "d3561ca4",
   "metadata": {},
   "source": [
    "### 3. Box and Whisker Plots (Biểu đồ hộp và râu)\n",
    "\n",
    "Biểu đồ hộp và râu tóm tắt phân phối của dữ liệu bằng cách vẽ một hình hộp (box) xung quanh 50% dữ liệu nằm giữa phân vị 25 và phân vị 75, và các \"râu\" thể hiện sự phân bố rộng hơn. Dưới và trên hộp là các điểm ngoại lệ.\n",
    "- **Lợi ích**: Giúp nhanh chóng nhận diện các phần trăm của dữ liệu (medians, quartiles) và phát hiện các giá trị ngoại lệ.\n",
    "- **Công dụng**: Tóm tắt sự phân bố và sự spread (tỏa rộng) của dữ liệu."
   ]
  },
  {
   "cell_type": "code",
   "execution_count": null,
   "id": "0ce17140",
   "metadata": {},
   "outputs": [],
   "source": [
    "# Box and Whisker Plots\n",
    "data.plot(kind='box', subplots=True, layout=(3,3), sharex=False, sharey=False)\n",
    "pyplot.show()"
   ]
  },
  {
   "cell_type": "markdown",
   "id": "fc5ebe4c",
   "metadata": {},
   "source": [
    "## 6.2 Multivariate Plots (Biểu đồ Đa Biến)\n",
    "\n",
    "Phần này cung cấp các phương pháp để trực quan hóa mối quan hệ giữa nhiều thuộc tính (biến) trong dữ liệu của bạn. Điều này hữu ích khi bạn muốn hiểu rõ hơn về mối quan hệ giữa các thuộc tính và xem xét ảnh hưởng qua lại giữa chúng."
   ]
  },
  {
   "cell_type": "markdown",
   "id": "97830bdd",
   "metadata": {},
   "source": [
    "### 1. Correlation Matrix Plot (Biểu đồ ma trận tương quan)\n",
    "\n",
    "Tương quan giữa hai biến cho biết mức độ liên hệ giữa chúng. Nếu hai biến thay đổi theo cùng một hướng, chúng có tương quan dương, nếu thay đổi ngược chiều thì tương quan âm. Một ma trận tương quan cho phép bạn tính toán mức độ tương quan giữa tất cả các cặp biến trong dữ liệu và trực quan hóa nó.\n",
    "- **Lợi ích**: Bạn có thể nhận diện được những thuộc tính có sự tương quan mạnh mẽ với nhau, từ đó giúp bạn quyết định biến nào có thể bị loại bỏ hoặc sử dụng chung.\n",
    "- **Công dụng**: Giúp nhận diện sự đa cộng tuyến (multicollinearity), vấn đề mà một số thuật toán máy học có thể gặp phải khi có các biến đầu vào có sự tương quan mạnh."
   ]
  },
  {
   "cell_type": "code",
   "execution_count": null,
   "id": "f7af0174",
   "metadata": {},
   "outputs": [],
   "source": [
    "# Correlation Matrix Plot\n",
    "import numpy\n",
    "correlations = data.corr()\n",
    "fig = pyplot.figure()\n",
    "ax = fig.add_subplot(111)\n",
    "cax = ax.matshow(correlations, vmin=-1, vmax=1)\n",
    "fig.colorbar(cax)\n",
    "ticks = numpy.arange(0,9,1)\n",
    "ax.set_xticks(ticks)\n",
    "ax.set_yticks(ticks)\n",
    "ax.set_xticklabels(names)\n",
    "ax.set_yticklabels(names)\n",
    "pyplot.show()"
   ]
  },
  {
   "cell_type": "markdown",
   "id": "2df515a9",
   "metadata": {},
   "source": [
    "### 2. Scatter Plot Matrix (Ma trận biểu đồ phân tán)\n",
    "\n",
    "Biểu đồ phân tán giúp hiển thị mối quan hệ giữa hai biến dưới dạng các điểm trong không gian 2 chiều. Một ma trận biểu đồ phân tán là sự kết hợp của tất cả các biểu đồ phân tán giữa các cặp thuộc tính trong dữ liệu. Điều này giúp bạn tìm hiểu mối quan hệ giữa tất cả các cặp thuộc tính và nhận diện các mối quan hệ có cấu trúc giữa chúng.\n",
    "- **Lợi ích**: Bạn có thể thấy rõ các mối quan hệ tuyến tính hoặc phi tuyến giữa các thuộc tính.\n",
    "- **Công dụng**: Giúp tìm ra các biến có mối quan hệ mạnh mẽ hoặc có thể có khả năng dự đoán cao."
   ]
  },
  {
   "cell_type": "markdown",
   "id": "a5b81b1a",
   "metadata": {},
   "source": []
  },
  {
   "cell_type": "code",
   "execution_count": null,
   "id": "8398b9c5",
   "metadata": {},
   "outputs": [],
   "source": [
    "# Scatterplot Matrix\n",
    "from pandas.plotting import scatter_matrix\n",
    "scatter_matrix(data)\n",
    "pyplot.show()"
   ]
  },
  {
   "cell_type": "markdown",
   "id": "8fe69764",
   "metadata": {},
   "source": [
    "## 6.3 Tóm Tắt\n",
    "\n",
    "Trong chương này, bạn đã khám phá một số cách để hiểu rõ dữ liệu của mình thông qua các biểu đồ trong Python sử dụng thư viện Pandas. Những biểu đồ này giúp bạn nhận diện các phân phối đơn biến, mối quan hệ giữa các biến, và các đặc điểm khác trong dữ liệu, từ đó cung cấp thông tin hữu ích cho quá trình chuẩn bị dữ liệu cho các mô hình máy học.\n",
    "\n",
    "**Các phương pháp chính bao gồm**:\n",
    "- **Biểu đồ tần suất** (Histograms)\n",
    "- **Biểu đồ mật độ** (Density Plots)\n",
    "- **Biểu đồ hộp và râu** (Box and Whisker Plots)\n",
    "- **Biểu đồ ma trận tương quan** (Correlation Matrix Plot)\n",
    "- **Ma trận biểu đồ phân tán** (Scatter Plot Matrix)"
   ]
  }
 ],
 "metadata": {
  "language_info": {
   "name": "python"
  }
 },
 "nbformat": 4,
 "nbformat_minor": 5
}
