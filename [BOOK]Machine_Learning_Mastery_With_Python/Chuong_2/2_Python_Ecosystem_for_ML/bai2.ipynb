{
 "cells": [
  {
   "cell_type": "markdown",
   "id": "cbe322ce",
   "metadata": {},
   "source": [
    "## Chapter 2: Python Ecosystem for Machine Learning"
   ]
  },
  {
   "cell_type": "markdown",
   "id": "02ae119f",
   "metadata": {},
   "source": [
    "### 2.1 Python\n",
    "\n",
    "Python là ngôn ngữ lập trình đa năng, nổi bật với cú pháp rõ ràng, dễ học. Điều này giúp nó trở thành lựa chọn hàng đầu cho cả nghiên cứu và triển khai Machine Learning (ML).  \n",
    "Python cũng đứng đầu trong nhiều khảo sát ngành dữ liệu như StackOverflow, Kaggle nhờ sự hỗ trợ mạnh mẽ từ cộng đồng và hệ sinh thái thư viện phong phú.\n",
    "\n",
    "> 📌 *Zen of Python* – Tư tưởng thiết kế của Python:  \n",
    "\"Beautiful is better than ugly\", \"Readability counts\",..."
   ]
  },
  {
   "cell_type": "markdown",
   "id": "8bb910c7",
   "metadata": {},
   "source": [
    "---\n",
    "\n",
    "### 2.2 SciPy Ecosystem\n",
    "\n",
    "SciPy là tập hợp các thư viện Python hỗ trợ tính toán khoa học, rất cần thiết cho ML:\n",
    "\n",
    "- **NumPy**: xử lý dữ liệu dạng mảng (arrays).\n",
    "- **Pandas**: thao tác dữ liệu dạng bảng (DataFrame).\n",
    "- **Matplotlib**: trực quan hóa dữ liệu bằng đồ thị.\n",
    "\n",
    "**Vai trò trong ML**:\n",
    "- Dữ liệu đầu vào cho mô hình thường là `NumPy arrays`.\n",
    "- Dùng `Pandas` để đọc và khám phá dữ liệu.\n",
    "- Dùng `Matplotlib` để biểu diễn dữ liệu."
   ]
  },
  {
   "cell_type": "code",
   "execution_count": 1,
   "id": "61523819",
   "metadata": {},
   "outputs": [
    {
     "name": "stdout",
     "output_type": "stream",
     "text": [
      "scipy: 1.13.1\n",
      "numpy: 2.0.2\n",
      "matplotlib: 3.9.4\n",
      "pandas: 2.2.3\n"
     ]
    }
   ],
   "source": [
    "import scipy, numpy, matplotlib, pandas\n",
    "print('scipy:', scipy.__version__)\n",
    "print('numpy:', numpy.__version__)\n",
    "print('matplotlib:', matplotlib.__version__)\n",
    "print('pandas:', pandas.__version__)"
   ]
  },
  {
   "cell_type": "markdown",
   "id": "b13d2d7b",
   "metadata": {},
   "source": [
    "---\n",
    "\n",
    "### 2.3 scikit-learn\n",
    "\n",
    "`scikit-learn` là thư viện ML chính trong Python, xây dựng trên nền tảng SciPy.\n",
    "\n",
    "**Tính năng chính**:\n",
    "- Thuật toán: classification, regression, clustering,...\n",
    "- Công cụ: chia tập dữ liệu, chuẩn hóa, đánh giá mô hình, chọn siêu tham số.\n",
    "\n",
    "**Ưu điểm**:\n",
    "- Mã nguồn mở, miễn phí.\n",
    "- Có thể dùng cho học tập, nghiên cứu, và triển khai thực tế."
   ]
  },
  {
   "cell_type": "code",
   "execution_count": 2,
   "id": "baba332b",
   "metadata": {},
   "outputs": [
    {
     "name": "stdout",
     "output_type": "stream",
     "text": [
      "sklearn: 1.6.1\n"
     ]
    }
   ],
   "source": [
    "import sklearn\n",
    "print('sklearn: {}'.format(sklearn.__version__))"
   ]
  },
  {
   "cell_type": "markdown",
   "id": "99f2ffc1",
   "metadata": {},
   "source": [
    "---\n",
    "\n",
    "### 2.4 Python Ecosystem Installation\n",
    "\n",
    "#### 2.4.1 Cài đặt Python"
   ]
  },
  {
   "cell_type": "code",
   "execution_count": null,
   "id": "2db97a4e",
   "metadata": {},
   "outputs": [],
   "source": [
    "python --version"
   ]
  }
 ],
 "metadata": {
  "kernelspec": {
   "display_name": "ProjectNCKH",
   "language": "python",
   "name": "python3"
  },
  "language_info": {
   "codemirror_mode": {
    "name": "ipython",
    "version": 3
   },
   "file_extension": ".py",
   "mimetype": "text/x-python",
   "name": "python",
   "nbconvert_exporter": "python",
   "pygments_lexer": "ipython3",
   "version": "3.9.21"
  }
 },
 "nbformat": 4,
 "nbformat_minor": 5
}
