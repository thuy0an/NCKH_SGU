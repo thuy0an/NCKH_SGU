{
  "cells": [
    {
      "cell_type": "markdown",
      "metadata": {},
      "source": [
        "# Chương 1: Welcome\n",
        "Chào mừng đến với **Làm chủ Học Máy với Python**. Nội dung này cung cấp bản tóm tắt và ghi chú có cấu trúc của cuốn sách."
      ]
    },
    {
      "cell_type": "markdown",
      "metadata": {},
      "source": [
        "## 1.1 Học Machine Learning Python Theo Cách Sai Lầm\n",
        "### Những điều KHÔNG nên làm:\n",
        "1. Chỉ tập trung vào cú pháp Python và trở thành chuyên gia trước khi áp dụng ML.\n",
        "2. Nghiên cứu lý thuyết và các tham số thuật toán một cách chuyên sâu mà không có ứng dụng thực tế.\n",
        "3. Tránh toàn bộ quy trình dự án học máy.\n",
        "\n",
        "**Vấn đề:** Điều này dẫn đến đường cong học tập chậm và không hiệu quả, đồng thời không xây dựng mô hình ML thực tế."
      ]
    },
    {
      "cell_type": "markdown",
      "metadata": {},
      "source": [
        "## 1.2 Machine Learning trong Python\n",
        "**Trọng tâm:** Mô hình hóa dự đoán\n",
        "- Ưu tiên **độ chính xác** của các dự đoán hơn là giải thích chúng.\n",
        "- Hiệu quả nhất với **dữ liệu dạng bảng**.\n",
        "\n",
        "**Cách tiếp cận ba phần của cuốn sách:**\n",
        "1. **Lessons**: Học các task con của dự án ML bằng cách sử dụng các phương pháp của Python.\n",
        "2. **Projects**: Các ví dụ ML thực tế từ đầu đến cuối.\n",
        "3. **Recipes**: Sử dụng các đoạn mã để hoàn thành các tác vụ cụ thể một cách nhanh chóng."
      ]
    },
    {
      "cell_type": "markdown",
      "metadata": {},
      "source": [
        "### 1.2.1 Lessons\n",
        "**Sáu nhiệm vụ trong một dự án mô hình hóa dự đoán:**\n",
        "1. Xác định vấn đề\n",
        "2. Phân tích dữ liệu\n",
        "3. Chuẩn bị dữ liệu\n",
        "4. Đánh giá thuật toán\n",
        "5. Cải thiện kết quả\n",
        "6. Trình bày kết quả"
      ]
    },
    {
      "cell_type": "markdown",
      "metadata": {},
      "source": [
        "### 1.2.2 Dự án\n",
        "**Các dự án trong cuốn sách:**\n",
        "1. Iris (Phân loại - Hello World)\n",
        "2. Boston Housing (Hồi quy)\n",
        "3. Sonar (Phân loại nhị phân)"
      ]
    },
    {
      "cell_type": "markdown",
      "metadata": {},
      "source": [
        "### 1.2.3 Công thức\n",
        "- **Định nghĩa:** Các ví dụ code nhỏ giải quyết các tác vụ ML cụ thể.\n",
        "- Là các ví dụ hoạt động.\n",
        "- Giả sử các thư viện cần thiết và bộ dữ liệu có sẵn.\n",
        "\n",
        "**Sử dụng:** Tăng tốc các dự án mới bằng cách sử dụng mã đã biết hoạt động."
      ]
    },
    {
      "cell_type": "markdown",
      "metadata": {},
      "source": [
        "### 1.2.4 Kết quả của cuốn sách này\n",
        "- Làm việc thông qua các dự án ML từ đầu đến cuối\n",
        "- Xây dựng các mô hình chính xác, đáng tin cậy\n",
        "- Xử lý từng nhiệm vụ con của dự án ML trong Python\n",
        "- Sử dụng hiệu quả các công cụ Python/SciPy"
      ]
    },
    {
      "cell_type": "markdown",
      "metadata": {},
      "source": [
        "## 1.3 Cuốn sách này KHÔNG phải là ?\n",
        "- Không phải là một cuốn sách lý thuyết\n",
        "- Không tập trung vào nội bộ thuật toán\n",
        "- Không phải là một cuốn sách dành cho người mới bắt đầu Python"
      ]
    },
    {
      "cell_type": "markdown",
      "metadata": {},
      "source": []
    }
  ],
  "metadata": {
    "kernelspec": {
      "display_name": "Python 3",
      "language": "python",
      "name": "python3"
    },
    "language_info": {
      "name": "python",
      "version": "3.8"
    }
  },
  "nbformat": 4,
  "nbformat_minor": 5
}
