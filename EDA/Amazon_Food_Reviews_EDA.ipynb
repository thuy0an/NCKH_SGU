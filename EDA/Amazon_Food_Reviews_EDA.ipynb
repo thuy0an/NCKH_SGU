{
 "cells": [
  {
   "cell_type": "markdown",
   "id": "4d388a8f",
   "metadata": {},
   "source": [
    "# Exploratory Data Analysis (EDA) - Amazon Fine Food Reviews Dataset\n",
    "Notebook này thực hiện phân tích dữ liệu khám phá (EDA) trên tập dữ liệu Amazon Fine Food Reviews.\n",
    "Chúng ta sẽ thực hiện các bước: \n",
    "- Tải dữ liệu và kiểm tra tổng quan\n",
    "- Xử lý dữ liệu bị thiếu và trùng lặp\n",
    "- Tiền xử lý dữ liệu văn bản\n",
    "- Phân tích dữ liệu đơn biến và đa biến\n",
    "- Trực quan hóa kết quả\n"
   ]
  },
  {
   "cell_type": "code",
   "execution_count": 1,
   "id": "8d97a137",
   "metadata": {},
   "outputs": [
    {
     "name": "stderr",
     "output_type": "stream",
     "text": [
      "[nltk_data] Downloading package stopwords to\n",
      "[nltk_data]     C:\\Users\\Admin\\AppData\\Roaming\\nltk_data...\n",
      "[nltk_data]   Package stopwords is already up-to-date!\n",
      "[nltk_data] Downloading package punkt to\n",
      "[nltk_data]     C:\\Users\\Admin\\AppData\\Roaming\\nltk_data...\n",
      "[nltk_data]   Package punkt is already up-to-date!\n",
      "[nltk_data] Downloading package wordnet to\n",
      "[nltk_data]     C:\\Users\\Admin\\AppData\\Roaming\\nltk_data...\n",
      "[nltk_data]   Package wordnet is already up-to-date!\n"
     ]
    }
   ],
   "source": [
    "import pandas as pd\n",
    "import matplotlib.pyplot as plt\n",
    "import seaborn as sns\n",
    "from IPython import display\n",
    "import re\n",
    "import nltk\n",
    "from nltk.corpus import stopwords\n",
    "from nltk.tokenize import word_tokenize\n",
    "from nltk.stem import WordNetLemmatizer\n",
    "\n",
    "# Tải bộ dữ liệu hỗ trợ của NLTK\n",
    "nltk.download('stopwords')\n",
    "nltk.download('punkt')\n",
    "nltk.download('wordnet')\n",
    "\n",
    "# Cấu hình font chữ của Matplotlib\n",
    "plt.rcParams['font.family'] = 'Arial'\n"
   ]
  },
  {
   "cell_type": "markdown",
   "id": "0004a8c8",
   "metadata": {},
   "source": [
    "## Đọc dữ liệu và kiểm tra tổng quan"
   ]
  },
  {
   "cell_type": "code",
   "execution_count": 2,
   "id": "1033e0b6",
   "metadata": {},
   "outputs": [
    {
     "name": "stdout",
     "output_type": "stream",
     "text": [
      "+ Shape: (568454, 10)\n",
      "<class 'pandas.core.frame.DataFrame'>\n",
      "RangeIndex: 568454 entries, 0 to 568453\n",
      "Data columns (total 10 columns):\n",
      " #   Column                  Non-Null Count   Dtype \n",
      "---  ------                  --------------   ----- \n",
      " 0   Id                      568454 non-null  int64 \n",
      " 1   ProductId               568454 non-null  object\n",
      " 2   UserId                  568454 non-null  object\n",
      " 3   ProfileName             568428 non-null  object\n",
      " 4   HelpfulnessNumerator    568454 non-null  int64 \n",
      " 5   HelpfulnessDenominator  568454 non-null  int64 \n",
      " 6   Score                   568454 non-null  int64 \n",
      " 7   Time                    568454 non-null  int64 \n",
      " 8   Summary                 568427 non-null  object\n",
      " 9   Text                    568454 non-null  object\n",
      "dtypes: int64(5), object(5)\n",
      "memory usage: 43.4+ MB\n",
      "None\n",
      "+ Contents\n"
     ]
    },
    {
     "data": {
      "text/html": [
       "<div>\n",
       "<style scoped>\n",
       "    .dataframe tbody tr th:only-of-type {\n",
       "        vertical-align: middle;\n",
       "    }\n",
       "\n",
       "    .dataframe tbody tr th {\n",
       "        vertical-align: top;\n",
       "    }\n",
       "\n",
       "    .dataframe thead th {\n",
       "        text-align: right;\n",
       "    }\n",
       "</style>\n",
       "<table border=\"1\" class=\"dataframe\">\n",
       "  <thead>\n",
       "    <tr style=\"text-align: right;\">\n",
       "      <th></th>\n",
       "      <th>Id</th>\n",
       "      <th>ProductId</th>\n",
       "      <th>UserId</th>\n",
       "      <th>ProfileName</th>\n",
       "      <th>HelpfulnessNumerator</th>\n",
       "      <th>HelpfulnessDenominator</th>\n",
       "      <th>Score</th>\n",
       "      <th>Time</th>\n",
       "      <th>Summary</th>\n",
       "      <th>Text</th>\n",
       "    </tr>\n",
       "  </thead>\n",
       "  <tbody>\n",
       "    <tr>\n",
       "      <th>0</th>\n",
       "      <td>1</td>\n",
       "      <td>B001E4KFG0</td>\n",
       "      <td>A3SGXH7AUHU8GW</td>\n",
       "      <td>delmartian</td>\n",
       "      <td>1</td>\n",
       "      <td>1</td>\n",
       "      <td>5</td>\n",
       "      <td>1303862400</td>\n",
       "      <td>Good Quality Dog Food</td>\n",
       "      <td>I have bought several of the Vitality canned d...</td>\n",
       "    </tr>\n",
       "    <tr>\n",
       "      <th>1</th>\n",
       "      <td>2</td>\n",
       "      <td>B00813GRG4</td>\n",
       "      <td>A1D87F6ZCVE5NK</td>\n",
       "      <td>dll pa</td>\n",
       "      <td>0</td>\n",
       "      <td>0</td>\n",
       "      <td>1</td>\n",
       "      <td>1346976000</td>\n",
       "      <td>Not as Advertised</td>\n",
       "      <td>Product arrived labeled as Jumbo Salted Peanut...</td>\n",
       "    </tr>\n",
       "    <tr>\n",
       "      <th>2</th>\n",
       "      <td>3</td>\n",
       "      <td>B000LQOCH0</td>\n",
       "      <td>ABXLMWJIXXAIN</td>\n",
       "      <td>Natalia Corres \"Natalia Corres\"</td>\n",
       "      <td>1</td>\n",
       "      <td>1</td>\n",
       "      <td>4</td>\n",
       "      <td>1219017600</td>\n",
       "      <td>\"Delight\" says it all</td>\n",
       "      <td>This is a confection that has been around a fe...</td>\n",
       "    </tr>\n",
       "    <tr>\n",
       "      <th>3</th>\n",
       "      <td>4</td>\n",
       "      <td>B000UA0QIQ</td>\n",
       "      <td>A395BORC6FGVXV</td>\n",
       "      <td>Karl</td>\n",
       "      <td>3</td>\n",
       "      <td>3</td>\n",
       "      <td>2</td>\n",
       "      <td>1307923200</td>\n",
       "      <td>Cough Medicine</td>\n",
       "      <td>If you are looking for the secret ingredient i...</td>\n",
       "    </tr>\n",
       "    <tr>\n",
       "      <th>4</th>\n",
       "      <td>5</td>\n",
       "      <td>B006K2ZZ7K</td>\n",
       "      <td>A1UQRSCLF8GW1T</td>\n",
       "      <td>Michael D. Bigham \"M. Wassir\"</td>\n",
       "      <td>0</td>\n",
       "      <td>0</td>\n",
       "      <td>5</td>\n",
       "      <td>1350777600</td>\n",
       "      <td>Great taffy</td>\n",
       "      <td>Great taffy at a great price.  There was a wid...</td>\n",
       "    </tr>\n",
       "  </tbody>\n",
       "</table>\n",
       "</div>"
      ],
      "text/plain": [
       "   Id   ProductId          UserId                      ProfileName  \\\n",
       "0   1  B001E4KFG0  A3SGXH7AUHU8GW                       delmartian   \n",
       "1   2  B00813GRG4  A1D87F6ZCVE5NK                           dll pa   \n",
       "2   3  B000LQOCH0   ABXLMWJIXXAIN  Natalia Corres \"Natalia Corres\"   \n",
       "3   4  B000UA0QIQ  A395BORC6FGVXV                             Karl   \n",
       "4   5  B006K2ZZ7K  A1UQRSCLF8GW1T    Michael D. Bigham \"M. Wassir\"   \n",
       "\n",
       "   HelpfulnessNumerator  HelpfulnessDenominator  Score        Time  \\\n",
       "0                     1                       1      5  1303862400   \n",
       "1                     0                       0      1  1346976000   \n",
       "2                     1                       1      4  1219017600   \n",
       "3                     3                       3      2  1307923200   \n",
       "4                     0                       0      5  1350777600   \n",
       "\n",
       "                 Summary                                               Text  \n",
       "0  Good Quality Dog Food  I have bought several of the Vitality canned d...  \n",
       "1      Not as Advertised  Product arrived labeled as Jumbo Salted Peanut...  \n",
       "2  \"Delight\" says it all  This is a confection that has been around a fe...  \n",
       "3         Cough Medicine  If you are looking for the secret ingredient i...  \n",
       "4            Great taffy  Great taffy at a great price.  There was a wid...  "
      ]
     },
     "metadata": {},
     "output_type": "display_data"
    }
   ],
   "source": [
    "# Đọc dataset\n",
    "df = pd.read_csv(\"Reviews.csv\")\n",
    "\n",
    "# Hiển thị thông tin tổng quan\n",
    "print(f'+ Shape: {df.shape}')\n",
    "print(df.info())\n",
    "print(f'+ Contents')\n",
    "display.display(df.head(5))\n"
   ]
  },
  {
   "cell_type": "markdown",
   "id": "5e9ad370",
   "metadata": {},
   "source": [
    "### Nhận xét:\n",
    "- Dữ liệu có khoảng **570,000** đánh giá.\n",
    "- Gồm **10 cột**, quan trọng nhất là `Score` (điểm đánh giá) và `Text` (nội dung đánh giá).\n",
    "- Cần kiểm tra dữ liệu trống và trùng lặp trước khi phân tích."
   ]
  },
  {
   "cell_type": "markdown",
   "id": "83e1ae91",
   "metadata": {},
   "source": [
    "## Kiểm tra dữ liệu trống và trùng lặp"
   ]
  },
  {
   "cell_type": "code",
   "execution_count": null,
   "id": "c9c980fd",
   "metadata": {},
   "outputs": [],
   "source": [
    "# Kiểm tra dữ liệu trống và trùng lặp\n",
    "print(\"Dữ liệu trống:\")\n",
    "print(df.isnull().sum())\n",
    "display.display(df[df.isnull().any(axis=1)])\n",
    "\n",
    "print(\"\\nSố đánh giá trùng lặp:\", df.duplicated(subset=['Text']).sum())\n",
    "display.display(df[df.duplicated(subset=['Text'])])\n"
   ]
  },
  {
   "cell_type": "markdown",
   "id": "24e35155",
   "metadata": {},
   "source": [
    "### Nhận xét:\n",
    "- Phát hiện **26 dòng** bị thiếu `ProfileName` và **27 dòng** thiếu `Summary`.\n",
    "- Có **174,875** dòng trùng lặp trong cột `Text`.\n",
    "- Cần loại bỏ các dòng dữ liệu trùng lặp và bị thiếu trước khi phân tích."
   ]
  },
  {
   "cell_type": "markdown",
   "id": "15b18684",
   "metadata": {},
   "source": [
    "## Tiền xử lý dữ liệu"
   ]
  },
  {
   "cell_type": "code",
   "execution_count": null,
   "id": "44eed5f1",
   "metadata": {},
   "outputs": [],
   "source": [
    "# Loại bỏ dòng bị thiếu & trùng lặp\n",
    "df = df.drop_duplicates(subset=['Text']).dropna()\n",
    "print(\"\\n✅ Đã loại bỏ các dòng trùng lặp và dữ liệu trống!\")\n",
    "print(f\"\\n✅ Số dòng sau tiền xử lý: {df.shape[0]}\")\n",
    "\n",
    "#Làm sạch văn bản nhanh hơn\n",
    "stop_words = set(stopwords.words('english'))\n",
    "lemmatizer = WordNetLemmatizer()\n",
    "\n",
    "def fast_clean_text(text):\n",
    "    text = text.lower()  # Chuyển chữ thường\n",
    "    text = re.sub(r'[^\\w\\s]', '', text)  # Xóa dấu câu\n",
    "    words = word_tokenize(text)  # Tách từ\n",
    "    words = [lemmatizer.lemmatize(w) for w in words if w not in stop_words]  # Xóa stopwords + lemmatization\n",
    "    return \" \".join(words)\n",
    "\n",
    "df['Text_Cleaned'] = df['Text'].map(fast_clean_text)\n",
    "\n",
    "\n",
    "# # Lưu file kết quả\n",
    "# df.to_csv(\"dataEDA.csv\", index=False)\n",
    "# print(\"\\n✅ Dữ liệu đã lưu vào: dataEDA.csv 🎯\")\n"
   ]
  },
  {
   "cell_type": "markdown",
   "id": "17db06b1",
   "metadata": {},
   "source": [
    "### Nhận xét:\n",
    "- Sau khi xử lý, còn **393,560** đánh giá hợp lệ.\n",
    "- Văn bản đã được làm sạch bằng cách loại bỏ trùng lặp, dữ liệu trống và xử lý văn bản."
   ]
  },
  {
   "cell_type": "markdown",
   "id": "f641f518",
   "metadata": {},
   "source": [
    "## Phân tích đơn biến (Univariate Analysis)"
   ]
  },
  {
   "cell_type": "code",
   "execution_count": null,
   "id": "84d77a93",
   "metadata": {},
   "outputs": [],
   "source": [
    "# Đọc lại file sau tiền xử lý\n",
    "df = pd.read_csv(\"dataEDA.csv\")\n",
    "\n",
    "# Vẽ biểu đồ phân phối điểm đánh giá\n",
    "plt.figure(figsize=(8,5))\n",
    "sns.countplot(x=df['Score'], palette=\"viridis\")\n",
    "plt.xlabel(\"Điểm đánh giá\")\n",
    "plt.ylabel(\"Số lượng\")\n",
    "plt.title(\"Phân phối điểm đánh giá\")\n",
    "plt.show()\n"
   ]
  },
  {
   "cell_type": "markdown",
   "id": "91fffe5c",
   "metadata": {},
   "source": [
    "## Nhận xét:\n",
    "- Đánh giá **5 sao chiếm đa số**, cho thấy phần lớn khách hàng có trải nghiệm tốt.\n",
    "- **Đánh giá 1 và 2 sao ít hơn nhiều**, có thể gây mất cân bằng dữ liệu khi huấn luyện mô hình."
   ]
  },
  {
   "cell_type": "markdown",
   "id": "c04f94dd",
   "metadata": {},
   "source": [
    "## Phân tích phân phối cảm xúc"
   ]
  },
  {
   "cell_type": "code",
   "execution_count": null,
   "id": "897b755c",
   "metadata": {},
   "outputs": [],
   "source": [
    "# Hàm xác định cảm xúc từ điểm số\n",
    "def sentiment_label(score):\n",
    "    if score >= 4:\n",
    "        return \"Positive\"\n",
    "    elif score == 3:\n",
    "        return \"Neutral\"\n",
    "    else:\n",
    "        return \"Negative\"\n",
    "\n",
    "df['Sentiment'] = df['Score'].apply(sentiment_label)\n",
    "\n",
    "# Vẽ biểu đồ phân phối cảm xúc\n",
    "plt.figure(figsize=(6,6))\n",
    "df['Sentiment'].value_counts().plot.pie(autopct=\"%1.1f%%\", colors=['green', 'gray', 'red'])\n",
    "plt.title(\"Phân phối cảm xúc\")  \n",
    "plt.ylabel(\"\")  \n",
    "plt.show()\n"
   ]
  },
  {
   "cell_type": "markdown",
   "id": "94dd3980",
   "metadata": {},
   "source": [
    "### Nhận xét:\n",
    "- **77.9%** đánh giá là tích cực (4-5 sao), chỉ **14.5%** là tiêu cực (1-2 sao).\n",
    "- Điều này có thể khiến mô hình dự đoán bị thiên lệch về phía tích cực."
   ]
  },
  {
   "cell_type": "markdown",
   "id": "3bada7d5",
   "metadata": {},
   "source": [
    "## Phân tích độ dài bài đánh giá"
   ]
  },
  {
   "cell_type": "code",
   "execution_count": null,
   "id": "dded14fb",
   "metadata": {},
   "outputs": [],
   "source": [
    "# Tạo cột mới lưu độ dài bài đánh giá\n",
    "df['do_dai_danh_gia'] = df['Text'].apply(lambda x: len(str(x).split()))\n",
    "\n",
    "# Vẽ biểu đồ phân phối độ dài đánh giá\n",
    "plt.figure(figsize=(8,5))\n",
    "sns.histplot(df['do_dai_danh_gia'], bins=50, kde=True, color='blue')\n",
    "plt.xlabel(\"Số từ trong bài đánh giá\")\n",
    "plt.ylabel(\"Tần suất xuất hiện\")\n",
    "plt.title(\"Phân phối độ dài bài đánh giá\")\n",
    "plt.show()\n",
    "\n",
    "# So sánh độ dài bài đánh giá theo cảm xúc (Boxplot)\n",
    "plt.figure(figsize=(8,5))\n",
    "sns.boxplot(x=df['Sentiment'], y=df['do_dai_danh_gia'], palette=\"coolwarm\")\n",
    "plt.xlabel(\"Cảm xúc\")\n",
    "plt.ylabel(\"Độ dài bài đánh giá (số từ)\")\n",
    "plt.title(\"Độ dài bài đánh giá theo nhóm cảm xúc\")\n",
    "plt.show()\n"
   ]
  },
  {
   "cell_type": "markdown",
   "id": "cd48a0b0",
   "metadata": {},
   "source": [
    "### Nhận xét:\n",
    "- **Độ dài trung bình** của đánh giá nằm trong khoảng **30-100 từ**.\n",
    "- Đánh giá tiêu cực thường ngắn hơn đánh giá tích cực."
   ]
  },
  {
   "cell_type": "markdown",
   "id": "5bb8289a",
   "metadata": {},
   "source": [
    "## Phân tích tương quan"
   ]
  },
  {
   "cell_type": "code",
   "execution_count": null,
   "id": "58baee2c",
   "metadata": {},
   "outputs": [],
   "source": [
    "# Biểu đồ phân tán scatter plot\n",
    "plt.figure(figsize=(8,5))\n",
    "sns.scatterplot(x=df['Score'], y=df['do_dai_danh_gia'], alpha=0.5)\n",
    "plt.xticks([1, 2, 3, 4, 5]) \n",
    "plt.xlabel(\"Điểm đánh giá\")\n",
    "plt.ylabel(\"Độ dài bài đánh giá\")\n",
    "plt.title(\"Đánh giá chiều dài và điểm số\")\n",
    "plt.show()\n",
    "\n",
    "# Ma trận tương quan heatmap\n",
    "correlation_matrix = df[['Score', 'do_dai_danh_gia']].corr()\n",
    "plt.figure(figsize=(5,4))\n",
    "sns.heatmap(correlation_matrix, annot=True, cmap=\"coolwarm\", linewidths=0.5)\n",
    "plt.title(\"Correlation Heatmap\")\n",
    "plt.show()\n"
   ]
  },
  {
   "cell_type": "markdown",
   "id": "cf051012",
   "metadata": {},
   "source": [
    "### Nhận xét:\n",
    "- **Không có mối quan hệ mạnh** giữa độ dài bài đánh giá và điểm số.\n",
    "- Hệ số tương quan thấp (-0.062), tức là bài đánh giá dài hơn không có nghĩa là điểm cao hơn."
   ]
  },
  {
   "cell_type": "markdown",
   "id": "736778cf",
   "metadata": {},
   "source": [
    "## Kết thúc"
   ]
  }
 ],
 "metadata": {
  "kernelspec": {
   "display_name": "base",
   "language": "python",
   "name": "python3"
  },
  "language_info": {
   "codemirror_mode": {
    "name": "ipython",
    "version": 3
   },
   "file_extension": ".py",
   "mimetype": "text/x-python",
   "name": "python",
   "nbconvert_exporter": "python",
   "pygments_lexer": "ipython3",
   "version": "3.12.7"
  }
 },
 "nbformat": 4,
 "nbformat_minor": 5
}
