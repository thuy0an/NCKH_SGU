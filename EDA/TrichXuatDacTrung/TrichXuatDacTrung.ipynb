{
 "cells": [
  {
   "cell_type": "markdown",
   "metadata": {},
   "source": [
    "# Tiền Xử Lý và Trích Xuất Đặc Trưng\n",
    "\n",
    "Notebook thực hiện tiền xử lý dữ liệu và trích xuất đặc trưng bằng cách sử dụng phương pháp Bag of Words (BoW)\n",
    "- Chuyển văn bản"
   ]
  },
  {
   "cell_type": "markdown",
   "metadata": {},
   "source": [
    "## 1. Import các thư viện cần thiết"
   ]
  },
  {
   "cell_type": "code",
   "execution_count": 2,
   "metadata": {},
   "outputs": [],
   "source": [
    "import pandas as pd\n",
    "import re\n",
    "from IPython import display\n",
    "import nltk\n",
    "import seaborn as sns\n",
    "import matplotlib.pyplot as plt\n",
    "from nltk.corpus import stopwords\n",
    "from nltk.tokenize import word_tokenize\n",
    "from nltk.stem import WordNetLemmatizer\n",
    "from sklearn.feature_extraction.text import CountVectorizer"
   ]
  },
  {
   "cell_type": "markdown",
   "metadata": {},
   "source": [
    "## 2. Tải các gói cần thiết từ NLTK"
   ]
  },
  {
   "cell_type": "code",
   "execution_count": 3,
   "metadata": {},
   "outputs": [
    {
     "name": "stderr",
     "output_type": "stream",
     "text": [
      "[nltk_data] Downloading package stopwords to\n",
      "[nltk_data]     C:\\Users\\Admin\\AppData\\Roaming\\nltk_data...\n",
      "[nltk_data]   Package stopwords is already up-to-date!\n",
      "[nltk_data] Downloading package punkt to\n",
      "[nltk_data]     C:\\Users\\Admin\\AppData\\Roaming\\nltk_data...\n",
      "[nltk_data]   Package punkt is already up-to-date!\n",
      "[nltk_data] Downloading package wordnet to\n",
      "[nltk_data]     C:\\Users\\Admin\\AppData\\Roaming\\nltk_data...\n",
      "[nltk_data]   Package wordnet is already up-to-date!\n",
      "[nltk_data] Downloading package omw-1.4 to\n",
      "[nltk_data]     C:\\Users\\Admin\\AppData\\Roaming\\nltk_data...\n",
      "[nltk_data]   Package omw-1.4 is already up-to-date!\n"
     ]
    }
   ],
   "source": [
    "# Tải bộ stopwords của NLTK và các tệp cần thiết\n",
    "nltk.download('stopwords')\n",
    "nltk.download('punkt') \n",
    "nltk.download('wordnet')\n",
    "nltk.download('omw-1.4')\n",
    "\n",
    "stop_words = set(stopwords.words('english'))\n",
    "lemmatizer = WordNetLemmatizer()"
   ]
  },
  {
   "cell_type": "markdown",
   "metadata": {},
   "source": [
    "## 3. Định nghĩa hàm tiền xử lý dữ liệu\n",
    "\n",
    "Hàm này thực hiện các bước tiền xử lý cơ bản cho văn bản:\n",
    "- Chuyển văn bản thành chữ thường\n",
    "- Xóa thẻ HTML\n",
    "- Xóa dấu câu\n",
    "- Tách từ\n",
    "- Loại bỏ stopwords\n",
    "- Lemmatization (chuyển từ về dạng gốc)"
   ]
  },
  {
   "cell_type": "code",
   "execution_count": 4,
   "metadata": {},
   "outputs": [],
   "source": [
    "def TienXuLyDuLieu(text):\n",
    "    text = text.lower()  # Chuyển chữ thường\n",
    "    text = re.sub(r'<br\\s*/?>', ' ', text)  # Xóa thẻ <br> hoặc <br/> và thay thế bằng khoảng trắng\n",
    "    text = re.sub(r'[^\\w\\s]', '', text)  # Xóa dấu câu\n",
    "    words = word_tokenize(text)  # Tách từ\n",
    "    words = [lemmatizer.lemmatize(w) for w in words if w not in stop_words]  # Xóa stopwords + lemmatization\n",
    "    return \" \".join(words)"
   ]
  },
  {
   "cell_type": "markdown",
   "metadata": {},
   "source": [
    "## 4. Đọc và chuẩn bị dữ liệu"
   ]
  },
  {
   "cell_type": "code",
   "execution_count": 5,
   "metadata": {},
   "outputs": [
    {
     "name": "stdout",
     "output_type": "stream",
     "text": [
      "Kích thước của dataset: (568454, 10)\n"
     ]
    },
    {
     "data": {
      "text/html": [
       "<div>\n",
       "<style scoped>\n",
       "    .dataframe tbody tr th:only-of-type {\n",
       "        vertical-align: middle;\n",
       "    }\n",
       "\n",
       "    .dataframe tbody tr th {\n",
       "        vertical-align: top;\n",
       "    }\n",
       "\n",
       "    .dataframe thead th {\n",
       "        text-align: right;\n",
       "    }\n",
       "</style>\n",
       "<table border=\"1\" class=\"dataframe\">\n",
       "  <thead>\n",
       "    <tr style=\"text-align: right;\">\n",
       "      <th></th>\n",
       "      <th>Id</th>\n",
       "      <th>ProductId</th>\n",
       "      <th>UserId</th>\n",
       "      <th>ProfileName</th>\n",
       "      <th>HelpfulnessNumerator</th>\n",
       "      <th>HelpfulnessDenominator</th>\n",
       "      <th>Score</th>\n",
       "      <th>Time</th>\n",
       "      <th>Summary</th>\n",
       "      <th>Text</th>\n",
       "    </tr>\n",
       "  </thead>\n",
       "  <tbody>\n",
       "    <tr>\n",
       "      <th>0</th>\n",
       "      <td>1</td>\n",
       "      <td>B001E4KFG0</td>\n",
       "      <td>A3SGXH7AUHU8GW</td>\n",
       "      <td>delmartian</td>\n",
       "      <td>1</td>\n",
       "      <td>1</td>\n",
       "      <td>5</td>\n",
       "      <td>1303862400</td>\n",
       "      <td>Good Quality Dog Food</td>\n",
       "      <td>I have bought several of the Vitality canned d...</td>\n",
       "    </tr>\n",
       "    <tr>\n",
       "      <th>1</th>\n",
       "      <td>2</td>\n",
       "      <td>B00813GRG4</td>\n",
       "      <td>A1D87F6ZCVE5NK</td>\n",
       "      <td>dll pa</td>\n",
       "      <td>0</td>\n",
       "      <td>0</td>\n",
       "      <td>1</td>\n",
       "      <td>1346976000</td>\n",
       "      <td>Not as Advertised</td>\n",
       "      <td>Product arrived labeled as Jumbo Salted Peanut...</td>\n",
       "    </tr>\n",
       "    <tr>\n",
       "      <th>2</th>\n",
       "      <td>3</td>\n",
       "      <td>B000LQOCH0</td>\n",
       "      <td>ABXLMWJIXXAIN</td>\n",
       "      <td>Natalia Corres \"Natalia Corres\"</td>\n",
       "      <td>1</td>\n",
       "      <td>1</td>\n",
       "      <td>4</td>\n",
       "      <td>1219017600</td>\n",
       "      <td>\"Delight\" says it all</td>\n",
       "      <td>This is a confection that has been around a fe...</td>\n",
       "    </tr>\n",
       "    <tr>\n",
       "      <th>3</th>\n",
       "      <td>4</td>\n",
       "      <td>B000UA0QIQ</td>\n",
       "      <td>A395BORC6FGVXV</td>\n",
       "      <td>Karl</td>\n",
       "      <td>3</td>\n",
       "      <td>3</td>\n",
       "      <td>2</td>\n",
       "      <td>1307923200</td>\n",
       "      <td>Cough Medicine</td>\n",
       "      <td>If you are looking for the secret ingredient i...</td>\n",
       "    </tr>\n",
       "    <tr>\n",
       "      <th>4</th>\n",
       "      <td>5</td>\n",
       "      <td>B006K2ZZ7K</td>\n",
       "      <td>A1UQRSCLF8GW1T</td>\n",
       "      <td>Michael D. Bigham \"M. Wassir\"</td>\n",
       "      <td>0</td>\n",
       "      <td>0</td>\n",
       "      <td>5</td>\n",
       "      <td>1350777600</td>\n",
       "      <td>Great taffy</td>\n",
       "      <td>Great taffy at a great price.  There was a wid...</td>\n",
       "    </tr>\n",
       "  </tbody>\n",
       "</table>\n",
       "</div>"
      ],
      "text/plain": [
       "   Id   ProductId          UserId                      ProfileName  \\\n",
       "0   1  B001E4KFG0  A3SGXH7AUHU8GW                       delmartian   \n",
       "1   2  B00813GRG4  A1D87F6ZCVE5NK                           dll pa   \n",
       "2   3  B000LQOCH0   ABXLMWJIXXAIN  Natalia Corres \"Natalia Corres\"   \n",
       "3   4  B000UA0QIQ  A395BORC6FGVXV                             Karl   \n",
       "4   5  B006K2ZZ7K  A1UQRSCLF8GW1T    Michael D. Bigham \"M. Wassir\"   \n",
       "\n",
       "   HelpfulnessNumerator  HelpfulnessDenominator  Score        Time  \\\n",
       "0                     1                       1      5  1303862400   \n",
       "1                     0                       0      1  1346976000   \n",
       "2                     1                       1      4  1219017600   \n",
       "3                     3                       3      2  1307923200   \n",
       "4                     0                       0      5  1350777600   \n",
       "\n",
       "                 Summary                                               Text  \n",
       "0  Good Quality Dog Food  I have bought several of the Vitality canned d...  \n",
       "1      Not as Advertised  Product arrived labeled as Jumbo Salted Peanut...  \n",
       "2  \"Delight\" says it all  This is a confection that has been around a fe...  \n",
       "3         Cough Medicine  If you are looking for the secret ingredient i...  \n",
       "4            Great taffy  Great taffy at a great price.  There was a wid...  "
      ]
     },
     "execution_count": 5,
     "metadata": {},
     "output_type": "execute_result"
    }
   ],
   "source": [
    "# Đọc dữ liệu dataset\n",
    "df = pd.read_csv(\"Reviews.csv\")\n",
    "\n",
    "# Xem thông tin cơ bản về dataset\n",
    "print(\"Kích thước của dataset:\", df.shape)\n",
    "df.head()"
   ]
  },
  {
   "cell_type": "markdown",
   "metadata": {},
   "source": [
    "## 5. Lấy mẫu dữ liệu cân bằng theo điểm đánh giá (Score)"
   ]
  },
  {
   "cell_type": "code",
   "execution_count": 6,
   "metadata": {},
   "outputs": [
    {
     "data": {
      "image/png": "[encoded data removed]",
      "text/plain": [
       "<Figure size 800x500 with 1 Axes>"
      ]
     },
     "metadata": {},
     "output_type": "display_data"
    }
   ],
   "source": [
    "# Lấy các mẫu nhỏ trong dataset để tìm đặc trưng\n",
    "one_1500 = df[df['Score'] == 1].sample(n=1500)\n",
    "two_500 = df[df['Score'] == 2].sample(n=500)\n",
    "three_500 = df[df['Score'] == 3].sample(n=500)\n",
    "four_500 = df[df['Score'] == 4].sample(n=500)\n",
    "five_1500 = df[df['Score'] == 5].sample(n=1500)\n",
    "\n",
    "# Kết hợp các mẫu đã lấy\n",
    "CacMauThuNghiem = pd.concat([one_1500, two_500, three_500, four_500, five_1500], axis=0)\n",
    "\n",
    "# Xem phân phối điểm đánh giá trong tập dữ liệu mẫu\n",
    "plt.figure(figsize=(8, 5))\n",
    "sns.countplot(x='Score', data=CacMauThuNghiem)\n",
    "plt.title('Phân phối điểm đánh giá trong tập dữ liệu mẫu')\n",
    "plt.show()"
   ]
  },
  {
   "cell_type": "markdown",
   "metadata": {},
   "source": [
    "## 6. Khám phá và tiền xử lý dữ liệu"
   ]
  },
  {
   "cell_type": "code",
   "execution_count": 7,
   "metadata": {},
   "outputs": [
    {
     "name": "stdout",
     "output_type": "stream",
     "text": [
      "Cột Text phiên bản gốc:\n",
      " The catnip pellets look and smell like rabbit food, my cats weren't interested in them in the slightest. It comes with 4 poofy ball things as well, but they're not so much toys as something you could buy in a craft store. Overall, just stick with flakes or whole catnip buds. The less processed the catnip, the better.\n",
      "\n",
      "Tokenized words:\n",
      " ['The', 'catnip', 'pellets', 'look', 'and', 'smell', 'like', 'rabbit', 'food', ',', 'my', 'cats', 'were', \"n't\", 'interested', 'in', 'them', 'in', 'the', 'slightest', '.', 'It', 'comes', 'with', '4', 'poofy', 'ball', 'things', 'as', 'well', ',', 'but', 'they', \"'re\", 'not', 'so', 'much', 'toys', 'as', 'something', 'you', 'could', 'buy', 'in', 'a', 'craft', 'store', '.', 'Overall', ',', 'just', 'stick', 'with', 'flakes', 'or', 'whole', 'catnip', 'buds', '.', 'The', 'less', 'processed', 'the', 'catnip', ',', 'the', 'better', '.']\n"
     ]
    }
   ],
   "source": [
    "# Tách một ví dụ từ cột 'Text'\n",
    "example = CacMauThuNghiem['Text'].iloc[49]\n",
    "print(\"Cột Text phiên bản gốc:\\n\", example)\n",
    "\n",
    "# Tokenize và in kết quả\n",
    "token = nltk.word_tokenize(example)\n",
    "print(\"\\nTokenized words:\\n\", token)"
   ]
  },
  {
   "cell_type": "code",
   "execution_count": 8,
   "metadata": {},
   "outputs": [
    {
     "name": "stdout",
     "output_type": "stream",
     "text": [
      "\n",
      "Văn bản sau khi làm sạch:\n",
      "catnip pellet look smell like rabbit food cat werent interested slightest come 4 poofy ball thing well theyre much toy something could buy craft store overall stick flake whole catnip bud less processed catnip better\n"
     ]
    }
   ],
   "source": [
    "# Áp dụng tiền xử lý văn bản cho cột 'Text' và in ra kết quả\n",
    "CacMauThuNghiem['Text_Cleaned'] = CacMauThuNghiem['Text'].map(TienXuLyDuLieu)\n",
    "print(f\"\\nVăn bản sau khi làm sạch:\\n{CacMauThuNghiem['Text_Cleaned'].iloc[49]}\")"
   ]
  },
  {
   "cell_type": "markdown",
   "metadata": {},
   "source": [
    "## 7. Trích xuất đặc trưng Bag of Words (BoW)"
   ]
  },
  {
   "cell_type": "code",
   "execution_count": 9,
   "metadata": {},
   "outputs": [
    {
     "name": "stdout",
     "output_type": "stream",
     "text": [
      "\n",
      "Thông tin của 5 dòng đã chọn:\n",
      "        Score                                       Text_Cleaned\n",
      "314618      3  beef steak tip mash potato lower end hormel li...\n",
      "177049      5  first time tasting say omg good fattening whol...\n",
      "36405       4  skeptical product first saw chef use tv intrig...\n",
      "306092      4  recieved free sample veggie krinkle stick real...\n",
      "72759       1  pack received amazon another nutrition fact st...\n"
     ]
    }
   ],
   "source": [
    "# Lấy mẫu 5 dòng dữ liệu từ Dataset\n",
    "sampled_reviews = CacMauThuNghiem.sample(n=5, random_state=42)\n",
    "sampled_reviews['Text_Length'] = sampled_reviews['Text'].apply(len)\n",
    "sampled_reviews['Word_Count'] = sampled_reviews['Text_Cleaned'].apply(lambda x: len(x.split()))\n",
    "\n",
    "# Hiển thị thông tin của 5 dòng đã chọn\n",
    "print(\"\\nThông tin của 5 dòng đã chọn:\")\n",
    "print(sampled_reviews[['Score', 'Text_Cleaned']])"
   ]
  },
  {
   "cell_type": "code",
   "execution_count": 10,
   "metadata": {},
   "outputs": [
    {
     "name": "stdout",
     "output_type": "stream",
     "text": [
      "\n",
      "Các từ trong từ điển BoW:\n",
      "['fact' 'fill' 'first' 'good' 'hormel' 'mashed' 'noodle' 'one' 'original'\n",
      " 'potato' 'preservative' 'pretty' 'prune' 'quickly' 'really' 'rinse'\n",
      " 'sticker' 'taste' 'try' 'would']\n"
     ]
    }
   ],
   "source": [
    "# Trích xuất đặc trưng BoW\n",
    "vectorizer = CountVectorizer(max_features=20)  # Giới hạn số lượng đặc trưng để dễ nhìn thấy kết quả\n",
    "bow_matrix = vectorizer.fit_transform(sampled_reviews['Text_Cleaned'])\n",
    "\n",
    "# Hiển thị các từ trong từ điển BoW\n",
    "feature_names = vectorizer.get_feature_names_out()\n",
    "print(\"\\nCác từ trong từ điển BoW:\")\n",
    "print(feature_names)"
   ]
  },
  {
   "cell_type": "code",
   "execution_count": 11,
   "metadata": {},
   "outputs": [
    {
     "name": "stdout",
     "output_type": "stream",
     "text": [
      "\n",
      "Đặc trưng đã trích xuất: 23 đặc trưng\n",
      "        Text_Length  Word_Count  Score  fact  fill  first  good  hormel  \\\n",
      "314618         1073          95      3     0     2      0     1       2   \n",
      "177049          246          21      5     0     0      1     1       0   \n",
      "36405           535          48      4     0     0      2     0       0   \n",
      "306092          188          16      4     0     0      0     0       0   \n",
      "72759           482          44      1     2     0      0     0       0   \n",
      "\n",
      "        mashed  noodle  ...  preservative  pretty  prune  quickly  really  \\\n",
      "314618       3       0  ...             0       1      0        2       3   \n",
      "177049       0       0  ...             0       0      0        1       0   \n",
      "36405        0       4  ...             0       1      0        0       0   \n",
      "306092       0       0  ...             0       0      0        0       1   \n",
      "72759        0       0  ...             2       0      2        0       0   \n",
      "\n",
      "        rinse  sticker  taste  try  would  \n",
      "314618      0        0      1    1      2  \n",
      "177049      0        0      0    1      0  \n",
      "36405       2        0      2    1      1  \n",
      "306092      0        0      0    0      0  \n",
      "72759       0        3      0    0      0  \n",
      "\n",
      "[5 rows x 23 columns]\n"
     ]
    }
   ],
   "source": [
    "# In ra ma trận BoW trích xuất đặc trưng của 5 dòng\n",
    "bow_df = pd.DataFrame(bow_matrix.toarray(), columns=feature_names)\n",
    "bow_df.index = sampled_reviews.index\n",
    "\n",
    "# Kết hợp với các đặc trưng khác\n",
    "df_features = pd.concat([sampled_reviews[['Text_Length', 'Word_Count', 'Score']], bow_df], axis=1)\n",
    "\n",
    "print(f\"\\nĐặc trưng đã trích xuất: {df_features.shape[1]} đặc trưng\")\n",
    "print(df_features.head())"
   ]
  },
  {
   "cell_type": "markdown",
   "metadata": {},
   "source": [
    "## 9. Trích xuất đặc trưng BoW cho toàn bộ tập dữ liệu"
   ]
  },
  {
   "cell_type": "code",
   "execution_count": 12,
   "metadata": {},
   "outputs": [
    {
     "name": "stdout",
     "output_type": "stream",
     "text": [
      "Kích thước ma trận BoW: (4500, 1000)\n",
      "\n",
      "Top 20 từ xuất hiện nhiều nhất:\n",
      "like: 2268\n",
      "taste: 1895\n",
      "product: 1764\n",
      "one: 1538\n",
      "flavor: 1532\n",
      "coffee: 1458\n",
      "good: 1411\n",
      "food: 1262\n",
      "would: 1170\n",
      "tea: 1119\n",
      "love: 956\n",
      "dog: 932\n",
      "get: 918\n",
      "great: 915\n",
      "dont: 790\n",
      "really: 783\n",
      "time: 778\n",
      "make: 763\n",
      "much: 761\n",
      "bag: 718\n"
     ]
    }
   ],
   "source": [
    "# Trích xuất đặc trưng BoW cho toàn bộ tập dữ liệu với nhiều đặc trưng hơn\n",
    "full_vectorizer = CountVectorizer(max_features=1000)\n",
    "full_bow_matrix = full_vectorizer.fit_transform(CacMauThuNghiem['Text_Cleaned'])\n",
    "\n",
    "print(f\"Kích thước ma trận BoW: {full_bow_matrix.shape}\")\n",
    "\n",
    "# Top từ xuất hiện nhiều nhất\n",
    "feature_names = full_vectorizer.get_feature_names_out()\n",
    "count_sum = full_bow_matrix.sum(axis=0)\n",
    "word_freq = [(word, count_sum[0, idx]) for idx, word in enumerate(feature_names)]\n",
    "word_freq = sorted(word_freq, key=lambda x: x[1], reverse=True)\n",
    "\n",
    "print(\"\\nTop 20 từ xuất hiện nhiều nhất:\")\n",
    "for word, freq in word_freq[:20]:\n",
    "    print(f\"{word}: {freq}\")"
   ]
  },
  {
   "cell_type": "markdown",
   "metadata": {},
   "source": [
    "## 10. Trực quan hóa các từ xuất hiện nhiều nhất"
   ]
  },
  {
   "cell_type": "code",
   "execution_count": 13,
   "metadata": {},
   "outputs": [
    {
     "data": {
      "image/png": "[encoded data removed]",
      "text/plain": [
       "<Figure size 1200x800 with 1 Axes>"
      ]
     },
     "metadata": {},
     "output_type": "display_data"
    }
   ],
   "source": [
    "# Trực quan hóa top từ xuất hiện nhiều nhất\n",
    "top_words = pd.DataFrame(word_freq[:20], columns=['word', 'frequency'])\n",
    "plt.figure(figsize=(12, 8))\n",
    "sns.barplot(x='frequency', y='word', data=top_words)\n",
    "plt.title('Top 20 từ xuất hiện nhiều nhất trong đánh giá')\n",
    "plt.tight_layout()\n",
    "plt.show()"
   ]
  },
  {
   "cell_type": "markdown",
   "metadata": {},
   "source": [
    "## kết thúc"
   ]
  }
 ],
 "metadata": {
  "kernelspec": {
   "display_name": "base",
   "language": "python",
   "name": "python3"
  },
  "language_info": {
   "codemirror_mode": {
    "name": "ipython",
    "version": 3
   },
   "file_extension": ".py",
   "mimetype": "text/x-python",
   "name": "python",
   "nbconvert_exporter": "python",
   "pygments_lexer": "ipython3",
   "version": "3.12.7"
  }
 },
 "nbformat": 4,
 "nbformat_minor": 4
}
